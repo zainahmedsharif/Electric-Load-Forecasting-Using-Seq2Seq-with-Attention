{
 "cells": [
  {
   "cell_type": "code",
   "execution_count": 1,
   "id": "1fe17a8b",
   "metadata": {},
   "outputs": [],
   "source": [
    "import pandas as pd\n",
    "import numpy as np\n",
    "import tensorflow as tf \n",
    "from tensorflow import keras\n",
    "import pickle\n",
    "from sklearn.metrics import mean_squared_error\n",
    "from sklearn.metrics import mean_absolute_error\n",
    "import seaborn as sns \n",
    "import matplotlib.pyplot as plt\n",
    "from numpy.lib.stride_tricks import sliding_window_view\n",
    "import datetime as dt\n",
    "import random\n",
    "import os \n",
    "import h5py\n",
    "from sklearn.preprocessing import StandardScaler\n",
    "from sklearn.preprocessing import MinMaxScaler\n",
    "from keras.models import Model\n",
    "from keras.layers import Input, GRU,LSTM, Dense,Lambda,Conv1D\n",
    "\n",
    "\n",
    "\n",
    "BATCH_SIZE = 128\n",
    "PATIENCE = 20\n",
    "MAX_EPOCH = 100\n",
    "TRAIN_STEPS = 1 * 168\n",
    "PREDICT_STEPS = 24\n",
    "WINDOW_SIZE = TRAIN_STEPS + PREDICT_STEPS \n",
    "\n",
    "LSTM_DIM = 128\n",
    "INPUT_FEATURES = 10\n",
    "OUTPUT_FEATURES = 1\n",
    "filters = 16\n",
    "krnl_sz = 2\n",
    "DECOD_DENSE = 24\n",
    "\n",
    "\n"
   ]
  },
  {
   "cell_type": "code",
   "execution_count": 2,
   "id": "57e5d269",
   "metadata": {},
   "outputs": [],
   "source": [
    "FILE_DIR = 'C:\\\\Users\\\\Zain Ahmed\\\\Desktop\\\\Literature review\\\\Project Folder\\\\Data.xlsx'\n"
   ]
  },
  {
   "cell_type": "markdown",
   "id": "4cb35c9f",
   "metadata": {},
   "source": [
    "# Loading the data from execl file"
   ]
  },
  {
   "cell_type": "code",
   "execution_count": 3,
   "id": "66d8867c",
   "metadata": {},
   "outputs": [],
   "source": [
    "data = pd.read_excel(FILE_DIR)"
   ]
  },
  {
   "cell_type": "markdown",
   "id": "1354109b",
   "metadata": {},
   "source": [
    "# Keeping DATE,Time and Load Columns Only \n",
    "# Also keeping daily hours between 0-23"
   ]
  },
  {
   "cell_type": "code",
   "execution_count": 4,
   "id": "6cdbd03b",
   "metadata": {},
   "outputs": [],
   "source": [
    "data['Time']=data['Time'].astype(int)-1"
   ]
  },
  {
   "cell_type": "code",
   "execution_count": 5,
   "id": "ad82b7a1",
   "metadata": {},
   "outputs": [
    {
     "data": {
      "text/plain": [
       "Index(['dayodweek', 'workday dinary', 'workday', 'Weekday', 'DATE', 'Time',\n",
       "       ' Load(KW)   ', ' KVAR  ', 'KVA', 'P/F', 'pload', 'pkvar', 'pkva',\n",
       "       'ppf', 'Temp (°C)', 'Dew Point Temp (°C)', 'Rel Hum (%)',\n",
       "       'Wind Dir (10s deg)', 'Wind Spd (km/h)', 'Visibility (km)',\n",
       "       'Stn Press (kPa)', 'Wind Chill'],\n",
       "      dtype='object')"
      ]
     },
     "execution_count": 5,
     "metadata": {},
     "output_type": "execute_result"
    }
   ],
   "source": [
    "data.columns"
   ]
  },
  {
   "cell_type": "code",
   "execution_count": 6,
   "id": "69ad8fbc",
   "metadata": {},
   "outputs": [],
   "source": [
    "#data = data.loc[:,('DATE','Time',' Load(KW)   ')]\n",
    "#DROPPING WIND CHILL DUE TO HIGH NANs\n",
    "data = data.loc[:,('DATE','Time',' Load(KW)   ','Temp (°C)','Dew Point Temp (°C)','Rel Hum (%)','Wind Dir (10s deg)','Wind Spd (km/h)','Visibility (km)','Stn Press (kPa)')]"
   ]
  },
  {
   "cell_type": "markdown",
   "id": "764631f9",
   "metadata": {},
   "source": [
    "# Concatenate Date and Time"
   ]
  },
  {
   "cell_type": "code",
   "execution_count": 7,
   "id": "746ef898",
   "metadata": {},
   "outputs": [],
   "source": [
    "data['datetime'] = data['DATE'].astype('str') + '-' + data['Time'].astype('str')"
   ]
  },
  {
   "cell_type": "code",
   "execution_count": 8,
   "id": "00c8869f",
   "metadata": {},
   "outputs": [],
   "source": [
    "data['datetime']=pd.to_datetime(data['datetime'],format='%Y-%m-%d-%H')\n",
    "data['is_weekday'] = (data['datetime'].dt.weekday<=5).astype('int')\n",
    "data['month'] = (data['datetime']).dt.month"
   ]
  },
  {
   "cell_type": "code",
   "execution_count": 9,
   "id": "cf857e85",
   "metadata": {},
   "outputs": [],
   "source": [
    "data = data.set_index('datetime')"
   ]
  },
  {
   "cell_type": "code",
   "execution_count": 10,
   "id": "b4903309",
   "metadata": {},
   "outputs": [],
   "source": [
    "data = data.drop(columns=['DATE','Time'])"
   ]
  },
  {
   "cell_type": "code",
   "execution_count": 11,
   "id": "97fb057a",
   "metadata": {},
   "outputs": [
    {
     "data": {
      "text/plain": [
       "Index([' Load(KW)   ', 'Temp (°C)', 'Dew Point Temp (°C)', 'Rel Hum (%)',\n",
       "       'Wind Dir (10s deg)', 'Wind Spd (km/h)', 'Visibility (km)',\n",
       "       'Stn Press (kPa)', 'is_weekday', 'month'],\n",
       "      dtype='object')"
      ]
     },
     "execution_count": 11,
     "metadata": {},
     "output_type": "execute_result"
    }
   ],
   "source": [
    "data.columns"
   ]
  },
  {
   "cell_type": "markdown",
   "id": "74f8e982",
   "metadata": {},
   "source": [
    "# We will ensure the continuity of the data"
   ]
  },
  {
   "cell_type": "code",
   "execution_count": 12,
   "id": "cb73c2a3",
   "metadata": {},
   "outputs": [
    {
     "name": "stdout",
     "output_type": "stream",
     "text": [
      "The number of breaks in the data are 3 which is 0.0081 percent of the total data\n"
     ]
    }
   ],
   "source": [
    "num_of_bre = (data.asfreq(freq='1H').shape[0]) - (data.shape[0])\n",
    "percen = ((num_of_bre)/data.shape[0])*100\n",
    "print('The number of breaks in the data are {} which is {:0.2} percent of the total data'.format(num_of_bre,percen))"
   ]
  },
  {
   "cell_type": "markdown",
   "id": "5ee6de35",
   "metadata": {},
   "source": [
    "# Make the data continous "
   ]
  },
  {
   "cell_type": "code",
   "execution_count": 13,
   "id": "5b250c55",
   "metadata": {},
   "outputs": [
    {
     "data": {
      "text/html": [
       "<div>\n",
       "<style scoped>\n",
       "    .dataframe tbody tr th:only-of-type {\n",
       "        vertical-align: middle;\n",
       "    }\n",
       "\n",
       "    .dataframe tbody tr th {\n",
       "        vertical-align: top;\n",
       "    }\n",
       "\n",
       "    .dataframe thead th {\n",
       "        text-align: right;\n",
       "    }\n",
       "</style>\n",
       "<table border=\"1\" class=\"dataframe\">\n",
       "  <thead>\n",
       "    <tr style=\"text-align: right;\">\n",
       "      <th></th>\n",
       "      <th>Load(KW)</th>\n",
       "      <th>Temp (°C)</th>\n",
       "      <th>Dew Point Temp (°C)</th>\n",
       "      <th>Rel Hum (%)</th>\n",
       "      <th>Wind Dir (10s deg)</th>\n",
       "      <th>Wind Spd (km/h)</th>\n",
       "      <th>Visibility (km)</th>\n",
       "      <th>Stn Press (kPa)</th>\n",
       "      <th>is_weekday</th>\n",
       "      <th>month</th>\n",
       "    </tr>\n",
       "    <tr>\n",
       "      <th>datetime</th>\n",
       "      <th></th>\n",
       "      <th></th>\n",
       "      <th></th>\n",
       "      <th></th>\n",
       "      <th></th>\n",
       "      <th></th>\n",
       "      <th></th>\n",
       "      <th></th>\n",
       "      <th></th>\n",
       "      <th></th>\n",
       "    </tr>\n",
       "  </thead>\n",
       "  <tbody>\n",
       "    <tr>\n",
       "      <th>2016-01-02 00:00:00</th>\n",
       "      <td>10809</td>\n",
       "      <td>-3.7</td>\n",
       "      <td>-6.5</td>\n",
       "      <td>81.0</td>\n",
       "      <td>29.0</td>\n",
       "      <td>30.0</td>\n",
       "      <td>24.1</td>\n",
       "      <td>98.09</td>\n",
       "      <td>1</td>\n",
       "      <td>1</td>\n",
       "    </tr>\n",
       "    <tr>\n",
       "      <th>2016-01-02 01:00:00</th>\n",
       "      <td>10890</td>\n",
       "      <td>-3.9</td>\n",
       "      <td>-6.9</td>\n",
       "      <td>80.0</td>\n",
       "      <td>28.0</td>\n",
       "      <td>32.0</td>\n",
       "      <td>24.1</td>\n",
       "      <td>98.09</td>\n",
       "      <td>1</td>\n",
       "      <td>1</td>\n",
       "    </tr>\n",
       "    <tr>\n",
       "      <th>2016-01-02 02:00:00</th>\n",
       "      <td>10803</td>\n",
       "      <td>-4.1</td>\n",
       "      <td>-7.2</td>\n",
       "      <td>79.0</td>\n",
       "      <td>29.0</td>\n",
       "      <td>27.0</td>\n",
       "      <td>24.1</td>\n",
       "      <td>98.15</td>\n",
       "      <td>1</td>\n",
       "      <td>1</td>\n",
       "    </tr>\n",
       "    <tr>\n",
       "      <th>2016-01-02 03:00:00</th>\n",
       "      <td>10839</td>\n",
       "      <td>-4.0</td>\n",
       "      <td>-7.1</td>\n",
       "      <td>79.0</td>\n",
       "      <td>28.0</td>\n",
       "      <td>34.0</td>\n",
       "      <td>24.1</td>\n",
       "      <td>98.13</td>\n",
       "      <td>1</td>\n",
       "      <td>1</td>\n",
       "    </tr>\n",
       "    <tr>\n",
       "      <th>2016-01-02 04:00:00</th>\n",
       "      <td>10812</td>\n",
       "      <td>-4.3</td>\n",
       "      <td>-7.3</td>\n",
       "      <td>80.0</td>\n",
       "      <td>29.0</td>\n",
       "      <td>25.0</td>\n",
       "      <td>24.1</td>\n",
       "      <td>98.16</td>\n",
       "      <td>1</td>\n",
       "      <td>1</td>\n",
       "    </tr>\n",
       "  </tbody>\n",
       "</table>\n",
       "</div>"
      ],
      "text/plain": [
       "                      Load(KW)     Temp (°C)  Dew Point Temp (°C)  \\\n",
       "datetime                                                            \n",
       "2016-01-02 00:00:00         10809       -3.7                 -6.5   \n",
       "2016-01-02 01:00:00         10890       -3.9                 -6.9   \n",
       "2016-01-02 02:00:00         10803       -4.1                 -7.2   \n",
       "2016-01-02 03:00:00         10839       -4.0                 -7.1   \n",
       "2016-01-02 04:00:00         10812       -4.3                 -7.3   \n",
       "\n",
       "                     Rel Hum (%)  Wind Dir (10s deg)  Wind Spd (km/h)  \\\n",
       "datetime                                                                \n",
       "2016-01-02 00:00:00         81.0                29.0             30.0   \n",
       "2016-01-02 01:00:00         80.0                28.0             32.0   \n",
       "2016-01-02 02:00:00         79.0                29.0             27.0   \n",
       "2016-01-02 03:00:00         79.0                28.0             34.0   \n",
       "2016-01-02 04:00:00         80.0                29.0             25.0   \n",
       "\n",
       "                     Visibility (km)  Stn Press (kPa)  is_weekday  month  \n",
       "datetime                                                                  \n",
       "2016-01-02 00:00:00             24.1            98.09           1      1  \n",
       "2016-01-02 01:00:00             24.1            98.09           1      1  \n",
       "2016-01-02 02:00:00             24.1            98.15           1      1  \n",
       "2016-01-02 03:00:00             24.1            98.13           1      1  \n",
       "2016-01-02 04:00:00             24.1            98.16           1      1  "
      ]
     },
     "execution_count": 13,
     "metadata": {},
     "output_type": "execute_result"
    }
   ],
   "source": [
    "data.head()"
   ]
  },
  {
   "cell_type": "code",
   "execution_count": 14,
   "id": "8667cf5e",
   "metadata": {},
   "outputs": [],
   "source": [
    "data = data.asfreq(freq='1H')"
   ]
  },
  {
   "cell_type": "code",
   "execution_count": 15,
   "id": "53f60a42",
   "metadata": {},
   "outputs": [
    {
     "data": {
      "text/plain": [
       "<AxesSubplot:xlabel='datetime'>"
      ]
     },
     "execution_count": 15,
     "metadata": {},
     "output_type": "execute_result"
    },
    {
     "data": {
      "image/png": "[encoded data removed]",
      "text/plain": [
       "<Figure size 432x288 with 1 Axes>"
      ]
     },
     "metadata": {
      "needs_background": "light"
     },
     "output_type": "display_data"
    }
   ],
   "source": [
    "data.plot(y=' Load(KW)   ')"
   ]
  },
  {
   "cell_type": "code",
   "execution_count": 16,
   "id": "b8e79530",
   "metadata": {},
   "outputs": [
    {
     "data": {
      "text/plain": [
       "(37224, 10)"
      ]
     },
     "execution_count": 16,
     "metadata": {},
     "output_type": "execute_result"
    }
   ],
   "source": [
    "data.shape"
   ]
  },
  {
   "cell_type": "markdown",
   "id": "5165aaf7",
   "metadata": {},
   "source": [
    "# Dividing our data in train, validation and test sets "
   ]
  },
  {
   "cell_type": "code",
   "execution_count": 17,
   "id": "71ec559c",
   "metadata": {},
   "outputs": [],
   "source": [
    "tr_id = int((data.shape[0]*0.75)/24)*24\n",
    "val_id = int((data.shape[0]*0.90)/24)*24\n",
    "tra_data = data.iloc[:tr_id,:]\n",
    "val_data = data.iloc[tr_id:val_id,:]\n",
    "tes_data = data.iloc[val_id:,:]"
   ]
  },
  {
   "cell_type": "markdown",
   "id": "9aba52d7",
   "metadata": {},
   "source": [
    "# Now we will write the proprocessing function"
   ]
  },
  {
   "cell_type": "code",
   "execution_count": 18,
   "id": "25a06c94",
   "metadata": {},
   "outputs": [],
   "source": [
    "def pre_process(sample):\n",
    "    '''\n",
    "    Takes a dataframe and \n",
    "            \n",
    "    - replaces NA values by forward filling\n",
    "    \n",
    "    '''\n",
    "    ## Use the below line of code to sample data based on hours \n",
    "    ##sample = sample[(sample.index.dayofweek<5) & ((of_da_fi.index.hour>4) & (of_da_fi.index.hour<19))]\n",
    "    \n",
    "    #using forward filling method to fill the missing data \n",
    "        \n",
    "    sample = sample.fillna(method='ffill')\n",
    "    \n",
    "    ## This line of code checks for NA values \n",
    "    \n",
    "    check_na = int(sample.isnull().sum().sum())\n",
    "    \n",
    "    print('There are {} NA values in the dataframe'.format(check_na))\n",
    "    \n",
    "    #plt.figure(figsize=(3,3))\n",
    "    \n",
    "    #sns.violinplot(data=sample)\n",
    "    \n",
    "    #plt.xticks(rotation=90)\n",
    "        \n",
    "    return sample"
   ]
  },
  {
   "cell_type": "code",
   "execution_count": 19,
   "id": "e5ac0169",
   "metadata": {},
   "outputs": [
    {
     "name": "stdout",
     "output_type": "stream",
     "text": [
      "There are 0 NA values in the dataframe\n"
     ]
    }
   ],
   "source": [
    "train_data = pre_process(tra_data)\n"
   ]
  },
  {
   "cell_type": "code",
   "execution_count": 20,
   "id": "234a624c",
   "metadata": {},
   "outputs": [
    {
     "name": "stdout",
     "output_type": "stream",
     "text": [
      "There are 0 NA values in the dataframe\n"
     ]
    }
   ],
   "source": [
    "vali_data = pre_process(val_data)\n"
   ]
  },
  {
   "cell_type": "code",
   "execution_count": 21,
   "id": "2fbeb1a2",
   "metadata": {},
   "outputs": [
    {
     "name": "stdout",
     "output_type": "stream",
     "text": [
      "There are 0 NA values in the dataframe\n"
     ]
    }
   ],
   "source": [
    "test_data = pre_process(tes_data)"
   ]
  },
  {
   "cell_type": "code",
   "execution_count": 22,
   "id": "2c7fb4f6",
   "metadata": {},
   "outputs": [
    {
     "data": {
      "text/plain": [
       " Load(KW)              0\n",
       "Temp (°C)              0\n",
       "Dew Point Temp (°C)    0\n",
       "Rel Hum (%)            0\n",
       "Wind Dir (10s deg)     0\n",
       "Wind Spd (km/h)        0\n",
       "Visibility (km)        0\n",
       "Stn Press (kPa)        0\n",
       "is_weekday             0\n",
       "month                  0\n",
       "dtype: int64"
      ]
     },
     "execution_count": 22,
     "metadata": {},
     "output_type": "execute_result"
    }
   ],
   "source": [
    "tes_data.fillna(method='ffill').isnull().sum()"
   ]
  },
  {
   "cell_type": "code",
   "execution_count": 23,
   "id": "7eb124d9",
   "metadata": {},
   "outputs": [
    {
     "data": {
      "text/plain": [
       "(3744, 10)"
      ]
     },
     "execution_count": 23,
     "metadata": {},
     "output_type": "execute_result"
    }
   ],
   "source": [
    "tes_data.shape"
   ]
  },
  {
   "cell_type": "markdown",
   "id": "0a53925d",
   "metadata": {},
   "source": [
    "# Rolling window function for 1D data"
   ]
  },
  {
   "cell_type": "code",
   "execution_count": 24,
   "id": "bfa201b2",
   "metadata": {},
   "outputs": [],
   "source": [
    "def rolling_window(array_data,input_size,output_size,offset):\n",
    "    '''\n",
    "    The function takes a series array_data of size (size,) \n",
    "\n",
    "    and generates\n",
    "    \n",
    "    a array of size (input_size,((array_size-(input_size+output_size)/stride)+1)) as inputs \n",
    "    \n",
    "    and array of size (array_size-(input_size+output_size)/stride)+1)as output \n",
    "    \n",
    "    '''\n",
    "        \n",
    "    # Normalizing the dataset\n",
    "        \n",
    "    scaler = StandardScaler()\n",
    "    \n",
    "    scaler = scaler.fit(array_data)\n",
    "    \n",
    "    array_data = scaler.transform(array_data)\n",
    "    \n",
    "#     lab_data = array_data[:,0]\n",
    "    \n",
    "#     for i in range(input_size,len(array_data)-output_size+1,offset):\n",
    "            \n",
    "#             data.append(array_data[i-input_size:i,0:array_data.shape[1]])\n",
    "    \n",
    "#             labels.append(lab_data[i:i+output_size])\n",
    "\n",
    "        \n",
    "    data_idx = sliding_window_view(np.arange(array_data.shape[0]).reshape(-1),window_shape=input_size)[::offset][:-1]\n",
    "    \n",
    "    data = array_data[data_idx]\n",
    "\n",
    "    labels = sliding_window_view(array_data[input_size:,0].reshape(-1),window_shape=output_size)[::offset]\n",
    "    \n",
    "    input_decoder = np.zeros((data.shape[0],1,LSTM_DIM+OUTPUT_FEATURES))\n",
    "\n",
    "    \n",
    "    assert data.shape[0] == labels.shape[0],\"Training rows and labels are unequal\"    \n",
    "    \n",
    "#    if output_size == offset:\n",
    "        \n",
    "#        ra_in = random.randint(0,data.shape[0]-2) \n",
    "        \n",
    "#        a = data[ra_in+1,-offset:]\n",
    "        \n",
    "#        b = labels[ra_in]\n",
    "        \n",
    "#        np.alltrue(a == b)\n",
    "    \n",
    "#    data = np.expand_dims(data,axis=2)\n",
    "    \n",
    "#    labels = np.expand_dims(labels,axis=2)\n",
    "    \n",
    "#    data = np.array(data)\n",
    "    \n",
    "#    labels = np.array(labels)\n",
    "        \n",
    "    return data,labels,scaler,array_data,input_decoder"
   ]
  },
  {
   "cell_type": "code",
   "execution_count": 25,
   "id": "501e63f3",
   "metadata": {},
   "outputs": [
    {
     "data": {
      "text/html": [
       "<div>\n",
       "<style scoped>\n",
       "    .dataframe tbody tr th:only-of-type {\n",
       "        vertical-align: middle;\n",
       "    }\n",
       "\n",
       "    .dataframe tbody tr th {\n",
       "        vertical-align: top;\n",
       "    }\n",
       "\n",
       "    .dataframe thead th {\n",
       "        text-align: right;\n",
       "    }\n",
       "</style>\n",
       "<table border=\"1\" class=\"dataframe\">\n",
       "  <thead>\n",
       "    <tr style=\"text-align: right;\">\n",
       "      <th></th>\n",
       "      <th>Load(KW)</th>\n",
       "      <th>Temp (°C)</th>\n",
       "      <th>Dew Point Temp (°C)</th>\n",
       "      <th>Rel Hum (%)</th>\n",
       "      <th>Wind Dir (10s deg)</th>\n",
       "      <th>Wind Spd (km/h)</th>\n",
       "      <th>Visibility (km)</th>\n",
       "      <th>Stn Press (kPa)</th>\n",
       "      <th>is_weekday</th>\n",
       "      <th>month</th>\n",
       "    </tr>\n",
       "    <tr>\n",
       "      <th>datetime</th>\n",
       "      <th></th>\n",
       "      <th></th>\n",
       "      <th></th>\n",
       "      <th></th>\n",
       "      <th></th>\n",
       "      <th></th>\n",
       "      <th></th>\n",
       "      <th></th>\n",
       "      <th></th>\n",
       "      <th></th>\n",
       "    </tr>\n",
       "  </thead>\n",
       "  <tbody>\n",
       "    <tr>\n",
       "      <th>2019-10-28 00:00:00</th>\n",
       "      <td>10152.0</td>\n",
       "      <td>3.6</td>\n",
       "      <td>2.5</td>\n",
       "      <td>92.0</td>\n",
       "      <td>36.0</td>\n",
       "      <td>23.0</td>\n",
       "      <td>24.1</td>\n",
       "      <td>99.83</td>\n",
       "      <td>1.0</td>\n",
       "      <td>10.0</td>\n",
       "    </tr>\n",
       "    <tr>\n",
       "      <th>2019-10-28 01:00:00</th>\n",
       "      <td>10092.0</td>\n",
       "      <td>3.7</td>\n",
       "      <td>3.0</td>\n",
       "      <td>95.0</td>\n",
       "      <td>36.0</td>\n",
       "      <td>18.0</td>\n",
       "      <td>16.1</td>\n",
       "      <td>99.85</td>\n",
       "      <td>1.0</td>\n",
       "      <td>10.0</td>\n",
       "    </tr>\n",
       "    <tr>\n",
       "      <th>2019-10-28 02:00:00</th>\n",
       "      <td>9960.0</td>\n",
       "      <td>4.0</td>\n",
       "      <td>3.5</td>\n",
       "      <td>96.0</td>\n",
       "      <td>35.0</td>\n",
       "      <td>20.0</td>\n",
       "      <td>16.1</td>\n",
       "      <td>99.88</td>\n",
       "      <td>1.0</td>\n",
       "      <td>10.0</td>\n",
       "    </tr>\n",
       "    <tr>\n",
       "      <th>2019-10-28 03:00:00</th>\n",
       "      <td>10008.0</td>\n",
       "      <td>3.4</td>\n",
       "      <td>2.8</td>\n",
       "      <td>96.0</td>\n",
       "      <td>36.0</td>\n",
       "      <td>30.0</td>\n",
       "      <td>8.1</td>\n",
       "      <td>99.88</td>\n",
       "      <td>1.0</td>\n",
       "      <td>10.0</td>\n",
       "    </tr>\n",
       "    <tr>\n",
       "      <th>2019-10-28 04:00:00</th>\n",
       "      <td>10296.0</td>\n",
       "      <td>2.8</td>\n",
       "      <td>2.2</td>\n",
       "      <td>96.0</td>\n",
       "      <td>36.0</td>\n",
       "      <td>29.0</td>\n",
       "      <td>8.1</td>\n",
       "      <td>99.92</td>\n",
       "      <td>1.0</td>\n",
       "      <td>10.0</td>\n",
       "    </tr>\n",
       "    <tr>\n",
       "      <th>...</th>\n",
       "      <td>...</td>\n",
       "      <td>...</td>\n",
       "      <td>...</td>\n",
       "      <td>...</td>\n",
       "      <td>...</td>\n",
       "      <td>...</td>\n",
       "      <td>...</td>\n",
       "      <td>...</td>\n",
       "      <td>...</td>\n",
       "      <td>...</td>\n",
       "    </tr>\n",
       "    <tr>\n",
       "      <th>2020-03-31 19:00:00</th>\n",
       "      <td>10500.0</td>\n",
       "      <td>0.6</td>\n",
       "      <td>0.4</td>\n",
       "      <td>99.0</td>\n",
       "      <td>9.0</td>\n",
       "      <td>10.0</td>\n",
       "      <td>0.6</td>\n",
       "      <td>99.93</td>\n",
       "      <td>1.0</td>\n",
       "      <td>3.0</td>\n",
       "    </tr>\n",
       "    <tr>\n",
       "      <th>2020-03-31 20:00:00</th>\n",
       "      <td>10332.0</td>\n",
       "      <td>1.6</td>\n",
       "      <td>1.4</td>\n",
       "      <td>99.0</td>\n",
       "      <td>11.0</td>\n",
       "      <td>14.0</td>\n",
       "      <td>0.2</td>\n",
       "      <td>99.97</td>\n",
       "      <td>1.0</td>\n",
       "      <td>3.0</td>\n",
       "    </tr>\n",
       "    <tr>\n",
       "      <th>2020-03-31 21:00:00</th>\n",
       "      <td>9984.0</td>\n",
       "      <td>2.3</td>\n",
       "      <td>2.1</td>\n",
       "      <td>99.0</td>\n",
       "      <td>14.0</td>\n",
       "      <td>17.0</td>\n",
       "      <td>0.2</td>\n",
       "      <td>100.00</td>\n",
       "      <td>1.0</td>\n",
       "      <td>3.0</td>\n",
       "    </tr>\n",
       "    <tr>\n",
       "      <th>2020-03-31 22:00:00</th>\n",
       "      <td>9744.0</td>\n",
       "      <td>2.6</td>\n",
       "      <td>2.5</td>\n",
       "      <td>99.0</td>\n",
       "      <td>15.0</td>\n",
       "      <td>17.0</td>\n",
       "      <td>0.2</td>\n",
       "      <td>100.03</td>\n",
       "      <td>1.0</td>\n",
       "      <td>3.0</td>\n",
       "    </tr>\n",
       "    <tr>\n",
       "      <th>2020-03-31 23:00:00</th>\n",
       "      <td>9660.0</td>\n",
       "      <td>2.2</td>\n",
       "      <td>2.1</td>\n",
       "      <td>99.0</td>\n",
       "      <td>14.0</td>\n",
       "      <td>18.0</td>\n",
       "      <td>0.2</td>\n",
       "      <td>100.05</td>\n",
       "      <td>1.0</td>\n",
       "      <td>3.0</td>\n",
       "    </tr>\n",
       "  </tbody>\n",
       "</table>\n",
       "<p>3744 rows × 10 columns</p>\n",
       "</div>"
      ],
      "text/plain": [
       "                      Load(KW)     Temp (°C)  Dew Point Temp (°C)  \\\n",
       "datetime                                                            \n",
       "2019-10-28 00:00:00       10152.0        3.6                  2.5   \n",
       "2019-10-28 01:00:00       10092.0        3.7                  3.0   \n",
       "2019-10-28 02:00:00        9960.0        4.0                  3.5   \n",
       "2019-10-28 03:00:00       10008.0        3.4                  2.8   \n",
       "2019-10-28 04:00:00       10296.0        2.8                  2.2   \n",
       "...                           ...        ...                  ...   \n",
       "2020-03-31 19:00:00       10500.0        0.6                  0.4   \n",
       "2020-03-31 20:00:00       10332.0        1.6                  1.4   \n",
       "2020-03-31 21:00:00        9984.0        2.3                  2.1   \n",
       "2020-03-31 22:00:00        9744.0        2.6                  2.5   \n",
       "2020-03-31 23:00:00        9660.0        2.2                  2.1   \n",
       "\n",
       "                     Rel Hum (%)  Wind Dir (10s deg)  Wind Spd (km/h)  \\\n",
       "datetime                                                                \n",
       "2019-10-28 00:00:00         92.0                36.0             23.0   \n",
       "2019-10-28 01:00:00         95.0                36.0             18.0   \n",
       "2019-10-28 02:00:00         96.0                35.0             20.0   \n",
       "2019-10-28 03:00:00         96.0                36.0             30.0   \n",
       "2019-10-28 04:00:00         96.0                36.0             29.0   \n",
       "...                          ...                 ...              ...   \n",
       "2020-03-31 19:00:00         99.0                 9.0             10.0   \n",
       "2020-03-31 20:00:00         99.0                11.0             14.0   \n",
       "2020-03-31 21:00:00         99.0                14.0             17.0   \n",
       "2020-03-31 22:00:00         99.0                15.0             17.0   \n",
       "2020-03-31 23:00:00         99.0                14.0             18.0   \n",
       "\n",
       "                     Visibility (km)  Stn Press (kPa)  is_weekday  month  \n",
       "datetime                                                                  \n",
       "2019-10-28 00:00:00             24.1            99.83         1.0   10.0  \n",
       "2019-10-28 01:00:00             16.1            99.85         1.0   10.0  \n",
       "2019-10-28 02:00:00             16.1            99.88         1.0   10.0  \n",
       "2019-10-28 03:00:00              8.1            99.88         1.0   10.0  \n",
       "2019-10-28 04:00:00              8.1            99.92         1.0   10.0  \n",
       "...                              ...              ...         ...    ...  \n",
       "2020-03-31 19:00:00              0.6            99.93         1.0    3.0  \n",
       "2020-03-31 20:00:00              0.2            99.97         1.0    3.0  \n",
       "2020-03-31 21:00:00              0.2           100.00         1.0    3.0  \n",
       "2020-03-31 22:00:00              0.2           100.03         1.0    3.0  \n",
       "2020-03-31 23:00:00              0.2           100.05         1.0    3.0  \n",
       "\n",
       "[3744 rows x 10 columns]"
      ]
     },
     "execution_count": 25,
     "metadata": {},
     "output_type": "execute_result"
    }
   ],
   "source": [
    "test_data"
   ]
  },
  {
   "cell_type": "markdown",
   "id": "92814007",
   "metadata": {},
   "source": [
    "# Creating the rolling window for input size 168 and output window size of 24"
   ]
  },
  {
   "cell_type": "code",
   "execution_count": 26,
   "id": "7d0388c9",
   "metadata": {},
   "outputs": [],
   "source": [
    "tra_data_sli,tra_lab,tra_sca,tra_stan,tra_decod = rolling_window(train_data,input_size=TRAIN_STEPS,output_size=24,offset=24)\n",
    "val_data_sli,val_lab,val_sca,val_stan,val_decod = rolling_window(vali_data,input_size=TRAIN_STEPS,output_size=24,offset=24)\n",
    "tes_data_sli,tes_lab,test_scaler,tes_stan,tes_decod = rolling_window(test_data,input_size=TRAIN_STEPS,output_size=24,offset=24)"
   ]
  },
  {
   "cell_type": "code",
   "execution_count": 27,
   "id": "cd6a2cb4",
   "metadata": {},
   "outputs": [
    {
     "data": {
      "text/plain": [
       "(1156, 168, 10)"
      ]
     },
     "execution_count": 27,
     "metadata": {},
     "output_type": "execute_result"
    }
   ],
   "source": [
    "tra_data_sli.shape"
   ]
  },
  {
   "cell_type": "code",
   "execution_count": 28,
   "id": "28e4d225",
   "metadata": {},
   "outputs": [
    {
     "data": {
      "text/plain": [
       "(1156, 24)"
      ]
     },
     "execution_count": 28,
     "metadata": {},
     "output_type": "execute_result"
    }
   ],
   "source": [
    "tra_lab.shape"
   ]
  },
  {
   "cell_type": "markdown",
   "id": "ba03cfa6",
   "metadata": {},
   "source": [
    "# We will now focus on Seq2Seq Implementation"
   ]
  },
  {
   "cell_type": "code",
   "execution_count": 29,
   "id": "a0832752",
   "metadata": {},
   "outputs": [
    {
     "name": "stdout",
     "output_type": "stream",
     "text": [
      "Number of training samples are 1156\n",
      "Number of validation samples are 225\n",
      "Number of test samples are 149\n"
     ]
    }
   ],
   "source": [
    "print(\"Number of training samples are {}\".format(tra_data_sli.shape[0]))\n",
    "print(\"Number of validation samples are {}\".format(val_data_sli.shape[0]))\n",
    "print(\"Number of test samples are {}\".format(tes_data_sli.shape[0]))"
   ]
  },
  {
   "cell_type": "code",
   "execution_count": 30,
   "id": "3e776a50",
   "metadata": {},
   "outputs": [
    {
     "data": {
      "text/plain": [
       "(1156, 24)"
      ]
     },
     "execution_count": 30,
     "metadata": {},
     "output_type": "execute_result"
    }
   ],
   "source": [
    "tra_lab.shape"
   ]
  },
  {
   "cell_type": "code",
   "execution_count": 31,
   "id": "9454561c",
   "metadata": {},
   "outputs": [
    {
     "data": {
      "text/plain": [
       "(1156, 168, 10)"
      ]
     },
     "execution_count": 31,
     "metadata": {},
     "output_type": "execute_result"
    }
   ],
   "source": [
    "tra_data_sli.shape\n",
    "#model_seq_to_seq_without_atten = keras.models.load_model('Seq2Seq GRU FC Layer Implementation Old University Data Using Std Scaler_no_attention.h5') \n",
    "#predict_wout_attention = model_seq_to_seq_without_atten.predict(x=[tes_data_sli,tes_decod])\n"
   ]
  },
  {
   "cell_type": "code",
   "execution_count": 32,
   "id": "f1dca157",
   "metadata": {},
   "outputs": [],
   "source": [
    "class BahdanauAttention(tf.keras.layers.Layer):\n",
    "    def __init__(self, units, verbose=0):\n",
    "        super(BahdanauAttention, self).__init__()\n",
    "        self.W1 = tf.keras.layers.Dense(units)\n",
    "        self.W2 = tf.keras.layers.Dense(units)\n",
    "        self.V = tf.keras.layers.Dense(1)\n",
    "        self.verbose= verbose\n",
    "\n",
    "    def call(self, query, values):\n",
    "        if self.verbose:\n",
    "            print('\\n******* Bahdanau Attention STARTS******')\n",
    "            print('query (decoder hidden state): (batch_size, hidden size) ', query.shape)\n",
    "            print('values (encoder all hidden state): (batch_size, max_len, hidden size) ', values.shape)\n",
    "\n",
    "        # query hidden state shape == (batch_size, hidden size)\n",
    "        # query_with_time_axis shape == (batch_size, 1, hidden size)\n",
    "        # values shape == (batch_size, max_len, hidden size)\n",
    "        # we are doing this to broadcast addition along the time axis to calculate the score\n",
    "        query_with_time_axis = tf.expand_dims(query, 1)\n",
    "\n",
    "        if self.verbose:\n",
    "            print('query_with_time_axis:(batch_size, 1, hidden size) ', query_with_time_axis.shape)\n",
    "\n",
    "        # score shape == (batch_size, max_length, 1)\n",
    "        # we get 1 at the last axis because we are applying score to self.V\n",
    "        # the shape of the tensor before applying self.V is (batch_size, max_length, units)\n",
    "        score = self.V(tf.nn.tanh(\n",
    "            self.W1(query_with_time_axis) + self.W2(values)))\n",
    "        if self.verbose:\n",
    "            print('score: (batch_size, max_length, 1) ',score.shape)\n",
    "        # attention_weights shape == (batch_size, max_length, 1)\n",
    "        attention_weights = tf.nn.softmax(score, axis=1)\n",
    "        if self.verbose:\n",
    "            print('attention_weights: (batch_size, max_length, 1) ',attention_weights.shape)\n",
    "        # context_vector shape after sum == (batch_size, hidden_size)\n",
    "        context_vector = attention_weights * values\n",
    "        if self.verbose:\n",
    "            print('context_vector before reduce_sum: (batch_size, max_length, hidden_size) ',context_vector.shape)\n",
    "        context_vector = tf.reduce_sum(context_vector, axis=1)\n",
    "        if self.verbose:\n",
    "            print('context_vector after reduce_sum: (batch_size, hidden_size) ',context_vector.shape)\n",
    "            print('\\n******* Bahdanau Attention ENDS******')\n",
    "        \n",
    "        return context_vector, attention_weights"
   ]
  },
  {
   "cell_type": "code",
   "execution_count": 33,
   "id": "c95d33bd",
   "metadata": {},
   "outputs": [],
   "source": [
    "\n",
    "\n",
    "# input_timesteps = 168\n",
    "# features = 8\n",
    "# output_timesteps = 24\n",
    "# lstm_dim = 256\n",
    "\n",
    "# def encoder_decoder_model(batch_size):\n",
    "\n",
    "#     encoder_inputs = Input(shape=(input_timesteps,features),name='encoder_inputs')\n",
    "#     encoder_lstm = LSTM(lstm_dim,return_state=True,name='encoder_lstm')\n",
    "#     encoder_outputs, state_h, state_c = encoder_lstm(encoder_inputs)\n",
    "\n",
    "#     ###Input data is used by the encoder lstm and context vector is generated\n",
    "    \n",
    "#     states = [state_h,state_c]\n",
    "\n",
    "#     ###Decoder network defination\n",
    "#     decoder_inputs = Input(shape=(1, 1))\n",
    "#     decoder_lstm = LSTM(lstm_dim,return_state=True,return_sequences=True,name='decoder_lstm')\n",
    "#     decoder_dense = Dense(1,name='decoder_output')\n",
    "    \n",
    "#     all_outputs = []\n",
    "    \n",
    "#     attention= BahdanauAttention(lstm_dim, verbose=verbose)\n",
    "\n",
    "#     inputs = decoder_inputs\n",
    "    \n",
    "#     for _ in range(output_timesteps):\n",
    "        \n",
    "#         context_vector, attention_weights=attention(decoder_outputs, encoder_outputs)\n",
    "        \n",
    "#         lstm_outputs , state_h , state_c = decoder_lstm(inputs,initial_state=states)\n",
    "        \n",
    "#         outputs = decoder_dense(lstm_outputs)\n",
    "        \n",
    "#         states = [state_h,state_c]\n",
    "        \n",
    "#         all_outputs.append(outputs)\n",
    "        \n",
    "#         inputs = outputs\n",
    "        \n",
    "#     decoder_outputs = all_outputs\n",
    "    \n",
    "#     model = Model([encoder_inputs,decoder_inputs],decoder_outputs,name='encoder_decoder_model')\n",
    "    \n",
    "#     model.compile(optimizer='adam',loss=tf.keras.losses.Huber(),metrics=[\"mean_squared_error\"])\n",
    "    \n",
    "#     return model\n",
    "    "
   ]
  },
  {
   "cell_type": "code",
   "execution_count": 34,
   "id": "8e188d6e",
   "metadata": {},
   "outputs": [
    {
     "name": "stdout",
     "output_type": "stream",
     "text": [
      "****Model Hyperparameters****\n",
      "BATCH_SIZE :  128\n",
      "LSTM_DIM :  128\n",
      "INPUT_FEATURES :  10\n",
      "OUTPUT_FEATURES :  1\n",
      "TRAIN_STEPS :  168\n",
      "PREDICT_STEPS :  24\n"
     ]
    }
   ],
   "source": [
    "print('****Model Hyperparameters****')\n",
    "\n",
    "print('BATCH_SIZE : ',BATCH_SIZE)\n",
    "\n",
    "print('LSTM_DIM : ',LSTM_DIM)\n",
    "\n",
    "print('INPUT_FEATURES : ',INPUT_FEATURES)\n",
    "\n",
    "print('OUTPUT_FEATURES : ',OUTPUT_FEATURES)\n",
    "\n",
    "print('TRAIN_STEPS : ',TRAIN_STEPS)\n",
    "\n",
    "print('PREDICT_STEPS : ',PREDICT_STEPS)\n"
   ]
  },
  {
   "cell_type": "code",
   "execution_count": 35,
   "id": "8e6d5f55",
   "metadata": {},
   "outputs": [],
   "source": [
    "def create_enc_dec_att_model(BATCH_SIZE):\n",
    "    ## Enoder Model\n",
    "\n",
    "    encoder_input = Input(shape = (TRAIN_STEPS,INPUT_FEATURES),name='encoder_input')\n",
    "    \n",
    "    conv_layer = Conv1D(filters=filters,kernel_size=krnl_sz)\n",
    "    \n",
    "    pool_layer = tf.keras.layers.MaxPool1D(2)\n",
    "#    conv_flat_layer = tf.keras.layers.TimeDistributed(tf.keras.layers.Flatten())\n",
    "\n",
    "    encoder_lstm = GRU(LSTM_DIM , return_sequences=True,return_state=True,name='encoder_lstm')\n",
    "    \n",
    "    one_d_conv = conv_layer(encoder_input)\n",
    "    \n",
    "    pool = pool_layer(one_d_conv)\n",
    "#    conv_flat = conv_flat_layer(pool)\n",
    "\n",
    "    encoder_output , en_h  = encoder_lstm(pool)\n",
    "\n",
    "    encoder_states = [en_h]\n",
    "\n",
    "    attention_layer = BahdanauAttention(LSTM_DIM)\n",
    "\n",
    "    ## Decoder_Model\n",
    "\n",
    "    decoder_input = Input(shape = (1 , OUTPUT_FEATURES+LSTM_DIM) , name='decoder_input')\n",
    "    \n",
    "    decoder_lstm_2 = GRU(LSTM_DIM, return_sequences=True, return_state = True, name = 'decoder_lstm_2')\n",
    "\n",
    "    decoder_dense_1 = Dense(DECOD_DENSE,name='decoder_dense')\n",
    "    \n",
    "    decoder_output_layer = Dense(1,name='decoder_output')\n",
    "\n",
    "    all_outputs = []\n",
    "\n",
    "    ## Decoder input starting vector \n",
    "\n",
    "    inputs = np.zeros((BATCH_SIZE,1,OUTPUT_FEATURES),dtype=np.float32)\n",
    "\n",
    "    ##for attention\n",
    "\n",
    "    decoder_output = en_h\n",
    "\n",
    "    states = encoder_states\n",
    "    \n",
    "    for _ in range(PREDICT_STEPS):\n",
    "\n",
    "        context_vector , attention_weights = attention_layer(decoder_output,encoder_output)\n",
    "\n",
    "    #    print(\"Context Vector Shape : \",context_vector.shape)\n",
    "\n",
    "    #    print(\"Attention Weights : \",attention_weights.shape)\n",
    "\n",
    "    #    print(\"Decoder Output Before Concat : \",decoder_output.shape)\n",
    "\n",
    "#        context_vector = tf.expand_dims(context_vector,1)\n",
    "\n",
    "    #    context_vector = tf.cast(context_vector,tf.float64)\n",
    "\n",
    "    #    print(\"Reshaped Context Vector : \",context_vector.shape)\n",
    "\n",
    "    #    print(\"Input Shape : \",inputs.shape)\n",
    "\n",
    "#        inputs = tf.concat([context_vector,inputs],axis=-1)\n",
    "\n",
    "    #    print(\"New Input Shape: \",inputs.shape)\n",
    "\n",
    "#        x = decoder_lstm_1(decoder_input,initial_state=states)\n",
    "        \n",
    "        decoder_outputs, state_h  = decoder_lstm_2(decoder_input,initial_state=states)\n",
    "\n",
    "        output = decoder_output_layer(decoder_outputs)\n",
    "        \n",
    "    #    print(\"Decoder Output : \",output.shape)\n",
    "\n",
    "    #    output = tf.expand_dims(output,1)\n",
    "\n",
    "        all_outputs.append(output)\n",
    "\n",
    "        inputs = output\n",
    "\n",
    "        states = [state_h]\n",
    "        \n",
    "    all_out = Lambda(lambda x: tf.keras.backend.concatenate(x, axis=1))(all_outputs)\n",
    "    \n",
    "    ##Flatten layer\n",
    "    \n",
    "    flat_layer = tf.keras.layers.Flatten()\n",
    "    \n",
    "    all_out = flat_layer(all_out)\n",
    "        \n",
    "    ###Defining Fullyy connected layer \n",
    "    \n",
    "    fc_layer = Dense(128,name='FC_LAYER'\n",
    "#                     ,kernel_regularizer=tf.keras.regularizers.L2(0.01)\n",
    "                    )\n",
    "    \n",
    "    output_layer = Dense(24,name='output_layer')\n",
    "\n",
    "    fc_layer_1 = fc_layer(all_out)\n",
    "    \n",
    "    final_output = output_layer(fc_layer_1)\n",
    "    \n",
    "    model = Model([encoder_input,decoder_input], final_output, name='model_encoder_decoder')\n",
    "\n",
    "    model.compile(optimizer='adam', loss=tf.keras.losses.Huber(), metrics=['mean_squared_error'])\n",
    "\n",
    "    return model\n",
    "\n",
    "\n"
   ]
  },
  {
   "cell_type": "code",
   "execution_count": 36,
   "id": "d9a70315",
   "metadata": {},
   "outputs": [],
   "source": [
    "My_Model = create_enc_dec_att_model(BATCH_SIZE)"
   ]
  },
  {
   "cell_type": "code",
   "execution_count": 37,
   "id": "0bff45d2",
   "metadata": {},
   "outputs": [
    {
     "name": "stdout",
     "output_type": "stream",
     "text": [
      "Model: \"model_encoder_decoder\"\n",
      "__________________________________________________________________________________________________\n",
      " Layer (type)                   Output Shape         Param #     Connected to                     \n",
      "==================================================================================================\n",
      " encoder_input (InputLayer)     [(None, 168, 10)]    0           []                               \n",
      "                                                                                                  \n",
      " conv1d (Conv1D)                (None, 167, 16)      336         ['encoder_input[0][0]']          \n",
      "                                                                                                  \n",
      " max_pooling1d (MaxPooling1D)   (None, 83, 16)       0           ['conv1d[0][0]']                 \n",
      "                                                                                                  \n",
      " decoder_input (InputLayer)     [(None, 1, 129)]     0           []                               \n",
      "                                                                                                  \n",
      " encoder_lstm (GRU)             [(None, 83, 128),    56064       ['max_pooling1d[0][0]']          \n",
      "                                 (None, 128)]                                                     \n",
      "                                                                                                  \n",
      " decoder_lstm_2 (GRU)           [(None, 1, 128),     99456       ['decoder_input[0][0]',          \n",
      "                                 (None, 128)]                     'encoder_lstm[0][1]',           \n",
      "                                                                  'decoder_input[0][0]',          \n",
      "                                                                  'decoder_lstm_2[0][1]',         \n",
      "                                                                  'decoder_input[0][0]',          \n",
      "                                                                  'decoder_lstm_2[1][1]',         \n",
      "                                                                  'decoder_input[0][0]',          \n",
      "                                                                  'decoder_lstm_2[2][1]',         \n",
      "                                                                  'decoder_input[0][0]',          \n",
      "                                                                  'decoder_lstm_2[3][1]',         \n",
      "                                                                  'decoder_input[0][0]',          \n",
      "                                                                  'decoder_lstm_2[4][1]',         \n",
      "                                                                  'decoder_input[0][0]',          \n",
      "                                                                  'decoder_lstm_2[5][1]',         \n",
      "                                                                  'decoder_input[0][0]',          \n",
      "                                                                  'decoder_lstm_2[6][1]',         \n",
      "                                                                  'decoder_input[0][0]',          \n",
      "                                                                  'decoder_lstm_2[7][1]',         \n",
      "                                                                  'decoder_input[0][0]',          \n",
      "                                                                  'decoder_lstm_2[8][1]',         \n",
      "                                                                  'decoder_input[0][0]',          \n",
      "                                                                  'decoder_lstm_2[9][1]',         \n",
      "                                                                  'decoder_input[0][0]',          \n",
      "                                                                  'decoder_lstm_2[10][1]',        \n",
      "                                                                  'decoder_input[0][0]',          \n",
      "                                                                  'decoder_lstm_2[11][1]',        \n",
      "                                                                  'decoder_input[0][0]',          \n",
      "                                                                  'decoder_lstm_2[12][1]',        \n",
      "                                                                  'decoder_input[0][0]',          \n",
      "                                                                  'decoder_lstm_2[13][1]',        \n",
      "                                                                  'decoder_input[0][0]',          \n",
      "                                                                  'decoder_lstm_2[14][1]',        \n",
      "                                                                  'decoder_input[0][0]',          \n",
      "                                                                  'decoder_lstm_2[15][1]',        \n",
      "                                                                  'decoder_input[0][0]',          \n",
      "                                                                  'decoder_lstm_2[16][1]',        \n",
      "                                                                  'decoder_input[0][0]',          \n",
      "                                                                  'decoder_lstm_2[17][1]',        \n",
      "                                                                  'decoder_input[0][0]',          \n",
      "                                                                  'decoder_lstm_2[18][1]',        \n",
      "                                                                  'decoder_input[0][0]',          \n",
      "                                                                  'decoder_lstm_2[19][1]',        \n",
      "                                                                  'decoder_input[0][0]',          \n",
      "                                                                  'decoder_lstm_2[20][1]',        \n",
      "                                                                  'decoder_input[0][0]',          \n",
      "                                                                  'decoder_lstm_2[21][1]',        \n",
      "                                                                  'decoder_input[0][0]',          \n",
      "                                                                  'decoder_lstm_2[22][1]']        \n",
      "                                                                                                  \n",
      " decoder_output (Dense)         (None, 1, 1)         129         ['decoder_lstm_2[0][0]',         \n",
      "                                                                  'decoder_lstm_2[1][0]',         \n",
      "                                                                  'decoder_lstm_2[2][0]',         \n",
      "                                                                  'decoder_lstm_2[3][0]',         \n",
      "                                                                  'decoder_lstm_2[4][0]',         \n",
      "                                                                  'decoder_lstm_2[5][0]',         \n",
      "                                                                  'decoder_lstm_2[6][0]',         \n",
      "                                                                  'decoder_lstm_2[7][0]',         \n",
      "                                                                  'decoder_lstm_2[8][0]',         \n",
      "                                                                  'decoder_lstm_2[9][0]',         \n",
      "                                                                  'decoder_lstm_2[10][0]',        \n",
      "                                                                  'decoder_lstm_2[11][0]',        \n",
      "                                                                  'decoder_lstm_2[12][0]',        \n",
      "                                                                  'decoder_lstm_2[13][0]',        \n",
      "                                                                  'decoder_lstm_2[14][0]',        \n",
      "                                                                  'decoder_lstm_2[15][0]',        \n",
      "                                                                  'decoder_lstm_2[16][0]',        \n",
      "                                                                  'decoder_lstm_2[17][0]',        \n",
      "                                                                  'decoder_lstm_2[18][0]',        \n",
      "                                                                  'decoder_lstm_2[19][0]',        \n"
     ]
    },
    {
     "name": "stdout",
     "output_type": "stream",
     "text": [
      "                                                                  'decoder_lstm_2[20][0]',        \n",
      "                                                                  'decoder_lstm_2[21][0]',        \n",
      "                                                                  'decoder_lstm_2[22][0]',        \n",
      "                                                                  'decoder_lstm_2[23][0]']        \n",
      "                                                                                                  \n",
      " lambda (Lambda)                (None, 24, 1)        0           ['decoder_output[0][0]',         \n",
      "                                                                  'decoder_output[1][0]',         \n",
      "                                                                  'decoder_output[2][0]',         \n",
      "                                                                  'decoder_output[3][0]',         \n",
      "                                                                  'decoder_output[4][0]',         \n",
      "                                                                  'decoder_output[5][0]',         \n",
      "                                                                  'decoder_output[6][0]',         \n",
      "                                                                  'decoder_output[7][0]',         \n",
      "                                                                  'decoder_output[8][0]',         \n",
      "                                                                  'decoder_output[9][0]',         \n",
      "                                                                  'decoder_output[10][0]',        \n",
      "                                                                  'decoder_output[11][0]',        \n",
      "                                                                  'decoder_output[12][0]',        \n",
      "                                                                  'decoder_output[13][0]',        \n",
      "                                                                  'decoder_output[14][0]',        \n",
      "                                                                  'decoder_output[15][0]',        \n",
      "                                                                  'decoder_output[16][0]',        \n",
      "                                                                  'decoder_output[17][0]',        \n",
      "                                                                  'decoder_output[18][0]',        \n",
      "                                                                  'decoder_output[19][0]',        \n",
      "                                                                  'decoder_output[20][0]',        \n",
      "                                                                  'decoder_output[21][0]',        \n",
      "                                                                  'decoder_output[22][0]',        \n",
      "                                                                  'decoder_output[23][0]']        \n",
      "                                                                                                  \n",
      " flatten (Flatten)              (None, 24)           0           ['lambda[0][0]']                 \n",
      "                                                                                                  \n",
      " FC_LAYER (Dense)               (None, 128)          3200        ['flatten[0][0]']                \n",
      "                                                                                                  \n",
      " output_layer (Dense)           (None, 24)           3096        ['FC_LAYER[0][0]']               \n",
      "                                                                                                  \n",
      "==================================================================================================\n",
      "Total params: 162,281\n",
      "Trainable params: 162,281\n",
      "Non-trainable params: 0\n",
      "__________________________________________________________________________________________________\n"
     ]
    }
   ],
   "source": [
    "My_Model.summary()"
   ]
  },
  {
   "cell_type": "code",
   "execution_count": 38,
   "id": "7b295552",
   "metadata": {},
   "outputs": [
    {
     "name": "stdout",
     "output_type": "stream",
     "text": [
      "Epoch 1/100\n",
      " 9/10 [==========================>...] - ETA: 0s - loss: 0.4096 - mean_squared_error: 0.9277\n",
      "Epoch 1: val_loss improved from inf to 0.30302, saving model to 1 Weekly Seq2Seq GRU FC Layer Implementation Old University Data Using Std Scaler.h5\n",
      "10/10 [==============================] - 60s 1s/step - loss: 0.4088 - mean_squared_error: 0.9257 - val_loss: 0.3030 - val_mean_squared_error: 0.6705\n",
      "Epoch 2/100\n",
      "10/10 [==============================] - ETA: 0s - loss: 0.2644 - mean_squared_error: 0.5760\n",
      "Epoch 2: val_loss improved from 0.30302 to 0.19729, saving model to 1 Weekly Seq2Seq GRU FC Layer Implementation Old University Data Using Std Scaler.h5\n",
      "10/10 [==============================] - 1s 133ms/step - loss: 0.2644 - mean_squared_error: 0.5760 - val_loss: 0.1973 - val_mean_squared_error: 0.4157\n",
      "Epoch 3/100\n",
      " 9/10 [==========================>...] - ETA: 0s - loss: 0.1592 - mean_squared_error: 0.3307\n",
      "Epoch 3: val_loss improved from 0.19729 to 0.15346, saving model to 1 Weekly Seq2Seq GRU FC Layer Implementation Old University Data Using Std Scaler.h5\n",
      "10/10 [==============================] - 1s 134ms/step - loss: 0.1590 - mean_squared_error: 0.3303 - val_loss: 0.1535 - val_mean_squared_error: 0.3147\n",
      "Epoch 4/100\n",
      " 9/10 [==========================>...] - ETA: 0s - loss: 0.1318 - mean_squared_error: 0.2710\n",
      "Epoch 4: val_loss improved from 0.15346 to 0.14406, saving model to 1 Weekly Seq2Seq GRU FC Layer Implementation Old University Data Using Std Scaler.h5\n",
      "10/10 [==============================] - 1s 132ms/step - loss: 0.1319 - mean_squared_error: 0.2712 - val_loss: 0.1441 - val_mean_squared_error: 0.2958\n",
      "Epoch 5/100\n",
      "10/10 [==============================] - ETA: 0s - loss: 0.1117 - mean_squared_error: 0.2297\n",
      "Epoch 5: val_loss improved from 0.14406 to 0.13191, saving model to 1 Weekly Seq2Seq GRU FC Layer Implementation Old University Data Using Std Scaler.h5\n",
      "10/10 [==============================] - 1s 131ms/step - loss: 0.1117 - mean_squared_error: 0.2297 - val_loss: 0.1319 - val_mean_squared_error: 0.2690\n",
      "Epoch 6/100\n",
      " 9/10 [==========================>...] - ETA: 0s - loss: 0.0994 - mean_squared_error: 0.2028\n",
      "Epoch 6: val_loss improved from 0.13191 to 0.12513, saving model to 1 Weekly Seq2Seq GRU FC Layer Implementation Old University Data Using Std Scaler.h5\n",
      "10/10 [==============================] - 1s 131ms/step - loss: 0.0994 - mean_squared_error: 0.2030 - val_loss: 0.1251 - val_mean_squared_error: 0.2552\n",
      "Epoch 7/100\n",
      " 9/10 [==========================>...] - ETA: 0s - loss: 0.0950 - mean_squared_error: 0.1940\n",
      "Epoch 7: val_loss improved from 0.12513 to 0.11601, saving model to 1 Weekly Seq2Seq GRU FC Layer Implementation Old University Data Using Std Scaler.h5\n",
      "10/10 [==============================] - 1s 133ms/step - loss: 0.0949 - mean_squared_error: 0.1936 - val_loss: 0.1160 - val_mean_squared_error: 0.2365\n",
      "Epoch 8/100\n",
      "10/10 [==============================] - ETA: 0s - loss: 0.0909 - mean_squared_error: 0.1861\n",
      "Epoch 8: val_loss improved from 0.11601 to 0.11516, saving model to 1 Weekly Seq2Seq GRU FC Layer Implementation Old University Data Using Std Scaler.h5\n",
      "10/10 [==============================] - 1s 131ms/step - loss: 0.0909 - mean_squared_error: 0.1861 - val_loss: 0.1152 - val_mean_squared_error: 0.2343\n",
      "Epoch 9/100\n",
      "10/10 [==============================] - ETA: 0s - loss: 0.0919 - mean_squared_error: 0.1879\n",
      "Epoch 9: val_loss did not improve from 0.11516\n",
      "10/10 [==============================] - 1s 124ms/step - loss: 0.0919 - mean_squared_error: 0.1879 - val_loss: 0.1235 - val_mean_squared_error: 0.2529\n",
      "Epoch 10/100\n",
      " 9/10 [==========================>...] - ETA: 0s - loss: 0.0892 - mean_squared_error: 0.1823\n",
      "Epoch 10: val_loss did not improve from 0.11516\n",
      "10/10 [==============================] - 1s 127ms/step - loss: 0.0892 - mean_squared_error: 0.1823 - val_loss: 0.1241 - val_mean_squared_error: 0.2542\n",
      "Epoch 11/100\n",
      " 9/10 [==========================>...] - ETA: 0s - loss: 0.0897 - mean_squared_error: 0.1837\n",
      "Epoch 11: val_loss did not improve from 0.11516\n",
      "10/10 [==============================] - 1s 125ms/step - loss: 0.0895 - mean_squared_error: 0.1834 - val_loss: 0.1181 - val_mean_squared_error: 0.2417\n",
      "Epoch 12/100\n",
      "10/10 [==============================] - ETA: 0s - loss: 0.0867 - mean_squared_error: 0.1771\n",
      "Epoch 12: val_loss did not improve from 0.11516\n",
      "10/10 [==============================] - 1s 126ms/step - loss: 0.0867 - mean_squared_error: 0.1771 - val_loss: 0.1166 - val_mean_squared_error: 0.2378\n",
      "Epoch 13/100\n",
      " 9/10 [==========================>...] - ETA: 0s - loss: 0.0848 - mean_squared_error: 0.1745\n",
      "Epoch 13: val_loss did not improve from 0.11516\n",
      "10/10 [==============================] - 1s 124ms/step - loss: 0.0847 - mean_squared_error: 0.1743 - val_loss: 0.1307 - val_mean_squared_error: 0.2678\n",
      "Epoch 14/100\n",
      "10/10 [==============================] - ETA: 0s - loss: 0.0895 - mean_squared_error: 0.1830\n",
      "Epoch 14: val_loss improved from 0.11516 to 0.11145, saving model to 1 Weekly Seq2Seq GRU FC Layer Implementation Old University Data Using Std Scaler.h5\n",
      "10/10 [==============================] - 1s 131ms/step - loss: 0.0895 - mean_squared_error: 0.1830 - val_loss: 0.1115 - val_mean_squared_error: 0.2267\n",
      "Epoch 15/100\n",
      "10/10 [==============================] - ETA: 0s - loss: 0.0827 - mean_squared_error: 0.1688\n",
      "Epoch 15: val_loss did not improve from 0.11145\n",
      "10/10 [==============================] - 1s 126ms/step - loss: 0.0827 - mean_squared_error: 0.1688 - val_loss: 0.1161 - val_mean_squared_error: 0.2372\n",
      "Epoch 16/100\n",
      " 9/10 [==========================>...] - ETA: 0s - loss: 0.0815 - mean_squared_error: 0.1674\n",
      "Epoch 16: val_loss did not improve from 0.11145\n",
      "10/10 [==============================] - 1s 126ms/step - loss: 0.0819 - mean_squared_error: 0.1682 - val_loss: 0.1205 - val_mean_squared_error: 0.2469\n",
      "Epoch 17/100\n",
      "10/10 [==============================] - ETA: 0s - loss: 0.0852 - mean_squared_error: 0.1741\n",
      "Epoch 17: val_loss did not improve from 0.11145\n",
      "10/10 [==============================] - 1s 128ms/step - loss: 0.0852 - mean_squared_error: 0.1741 - val_loss: 0.1206 - val_mean_squared_error: 0.2452\n",
      "Epoch 18/100\n",
      "10/10 [==============================] - ETA: 0s - loss: 0.0842 - mean_squared_error: 0.1725\n",
      "Epoch 18: val_loss improved from 0.11145 to 0.11009, saving model to 1 Weekly Seq2Seq GRU FC Layer Implementation Old University Data Using Std Scaler.h5\n",
      "10/10 [==============================] - 1s 133ms/step - loss: 0.0842 - mean_squared_error: 0.1725 - val_loss: 0.1101 - val_mean_squared_error: 0.2246\n",
      "Epoch 19/100\n",
      "10/10 [==============================] - ETA: 0s - loss: 0.0838 - mean_squared_error: 0.1724\n",
      "Epoch 19: val_loss did not improve from 0.11009\n",
      "10/10 [==============================] - 1s 128ms/step - loss: 0.0838 - mean_squared_error: 0.1724 - val_loss: 0.1227 - val_mean_squared_error: 0.2505\n",
      "Epoch 20/100\n",
      " 9/10 [==========================>...] - ETA: 0s - loss: 0.0844 - mean_squared_error: 0.1718\n",
      "Epoch 20: val_loss improved from 0.11009 to 0.10929, saving model to 1 Weekly Seq2Seq GRU FC Layer Implementation Old University Data Using Std Scaler.h5\n",
      "10/10 [==============================] - 1s 130ms/step - loss: 0.0845 - mean_squared_error: 0.1721 - val_loss: 0.1093 - val_mean_squared_error: 0.2213\n",
      "Epoch 21/100\n",
      "10/10 [==============================] - ETA: 0s - loss: 0.0802 - mean_squared_error: 0.1641\n",
      "Epoch 21: val_loss did not improve from 0.10929\n",
      "10/10 [==============================] - 1s 125ms/step - loss: 0.0802 - mean_squared_error: 0.1641 - val_loss: 0.1190 - val_mean_squared_error: 0.2440\n",
      "Epoch 22/100\n",
      " 9/10 [==========================>...] - ETA: 0s - loss: 0.0753 - mean_squared_error: 0.1539\n",
      "Epoch 22: val_loss improved from 0.10929 to 0.10639, saving model to 1 Weekly Seq2Seq GRU FC Layer Implementation Old University Data Using Std Scaler.h5\n",
      "10/10 [==============================] - 1s 131ms/step - loss: 0.0752 - mean_squared_error: 0.1537 - val_loss: 0.1064 - val_mean_squared_error: 0.2164\n",
      "Epoch 23/100\n",
      " 9/10 [==========================>...] - ETA: 0s - loss: 0.0751 - mean_squared_error: 0.1536\n",
      "Epoch 23: val_loss did not improve from 0.10639\n",
      "10/10 [==============================] - 1s 128ms/step - loss: 0.0750 - mean_squared_error: 0.1534 - val_loss: 0.1094 - val_mean_squared_error: 0.2217\n"
     ]
    },
    {
     "name": "stdout",
     "output_type": "stream",
     "text": [
      "Epoch 24/100\n",
      "10/10 [==============================] - ETA: 0s - loss: 0.0720 - mean_squared_error: 0.1473\n",
      "Epoch 24: val_loss improved from 0.10639 to 0.10223, saving model to 1 Weekly Seq2Seq GRU FC Layer Implementation Old University Data Using Std Scaler.h5\n",
      "10/10 [==============================] - 1s 132ms/step - loss: 0.0720 - mean_squared_error: 0.1473 - val_loss: 0.1022 - val_mean_squared_error: 0.2071\n",
      "Epoch 25/100\n",
      "10/10 [==============================] - ETA: 0s - loss: 0.0689 - mean_squared_error: 0.1407\n",
      "Epoch 25: val_loss did not improve from 0.10223\n",
      "10/10 [==============================] - 1s 126ms/step - loss: 0.0689 - mean_squared_error: 0.1407 - val_loss: 0.1064 - val_mean_squared_error: 0.2170\n",
      "Epoch 26/100\n",
      "10/10 [==============================] - ETA: 0s - loss: 0.0712 - mean_squared_error: 0.1450\n",
      "Epoch 26: val_loss improved from 0.10223 to 0.09430, saving model to 1 Weekly Seq2Seq GRU FC Layer Implementation Old University Data Using Std Scaler.h5\n",
      "10/10 [==============================] - 1s 136ms/step - loss: 0.0712 - mean_squared_error: 0.1450 - val_loss: 0.0943 - val_mean_squared_error: 0.1908\n",
      "Epoch 27/100\n",
      " 9/10 [==========================>...] - ETA: 0s - loss: 0.0681 - mean_squared_error: 0.1387\n",
      "Epoch 27: val_loss did not improve from 0.09430\n",
      "10/10 [==============================] - 1s 129ms/step - loss: 0.0681 - mean_squared_error: 0.1387 - val_loss: 0.0958 - val_mean_squared_error: 0.1938\n",
      "Epoch 28/100\n",
      " 9/10 [==========================>...] - ETA: 0s - loss: 0.0675 - mean_squared_error: 0.1375\n",
      "Epoch 28: val_loss improved from 0.09430 to 0.08581, saving model to 1 Weekly Seq2Seq GRU FC Layer Implementation Old University Data Using Std Scaler.h5\n",
      "10/10 [==============================] - 1s 129ms/step - loss: 0.0675 - mean_squared_error: 0.1374 - val_loss: 0.0858 - val_mean_squared_error: 0.1742\n",
      "Epoch 29/100\n",
      "10/10 [==============================] - ETA: 0s - loss: 0.0639 - mean_squared_error: 0.1303\n",
      "Epoch 29: val_loss did not improve from 0.08581\n",
      "10/10 [==============================] - 1s 132ms/step - loss: 0.0639 - mean_squared_error: 0.1303 - val_loss: 0.0882 - val_mean_squared_error: 0.1787\n",
      "Epoch 30/100\n",
      " 9/10 [==========================>...] - ETA: 0s - loss: 0.0660 - mean_squared_error: 0.1347\n",
      "Epoch 30: val_loss did not improve from 0.08581\n",
      "10/10 [==============================] - 1s 129ms/step - loss: 0.0659 - mean_squared_error: 0.1345 - val_loss: 0.0951 - val_mean_squared_error: 0.1930\n",
      "Epoch 31/100\n",
      "10/10 [==============================] - ETA: 0s - loss: 0.0607 - mean_squared_error: 0.1237\n",
      "Epoch 31: val_loss improved from 0.08581 to 0.07972, saving model to 1 Weekly Seq2Seq GRU FC Layer Implementation Old University Data Using Std Scaler.h5\n",
      "10/10 [==============================] - 1s 132ms/step - loss: 0.0607 - mean_squared_error: 0.1237 - val_loss: 0.0797 - val_mean_squared_error: 0.1608\n",
      "Epoch 32/100\n",
      " 9/10 [==========================>...] - ETA: 0s - loss: 0.0580 - mean_squared_error: 0.1185\n",
      "Epoch 32: val_loss did not improve from 0.07972\n",
      "10/10 [==============================] - 1s 129ms/step - loss: 0.0582 - mean_squared_error: 0.1190 - val_loss: 0.0917 - val_mean_squared_error: 0.1874\n",
      "Epoch 33/100\n",
      " 9/10 [==========================>...] - ETA: 0s - loss: 0.0831 - mean_squared_error: 0.1696\n",
      "Epoch 33: val_loss did not improve from 0.07972\n",
      "10/10 [==============================] - 1s 124ms/step - loss: 0.0831 - mean_squared_error: 0.1695 - val_loss: 0.1123 - val_mean_squared_error: 0.2282\n",
      "Epoch 34/100\n",
      " 9/10 [==========================>...] - ETA: 0s - loss: 0.0731 - mean_squared_error: 0.1491\n",
      "Epoch 34: val_loss did not improve from 0.07972\n",
      "10/10 [==============================] - 1s 124ms/step - loss: 0.0730 - mean_squared_error: 0.1489 - val_loss: 0.1066 - val_mean_squared_error: 0.2175\n",
      "Epoch 35/100\n",
      " 9/10 [==========================>...] - ETA: 0s - loss: 0.0672 - mean_squared_error: 0.1370\n",
      "Epoch 35: val_loss did not improve from 0.07972\n",
      "10/10 [==============================] - 1s 126ms/step - loss: 0.0671 - mean_squared_error: 0.1368 - val_loss: 0.0986 - val_mean_squared_error: 0.2009\n",
      "Epoch 36/100\n",
      "10/10 [==============================] - ETA: 0s - loss: 0.0639 - mean_squared_error: 0.1304\n",
      "Epoch 36: val_loss did not improve from 0.07972\n",
      "10/10 [==============================] - 1s 128ms/step - loss: 0.0639 - mean_squared_error: 0.1304 - val_loss: 0.1054 - val_mean_squared_error: 0.2147\n",
      "Epoch 37/100\n",
      "10/10 [==============================] - ETA: 0s - loss: 0.0631 - mean_squared_error: 0.1286\n",
      "Epoch 37: val_loss did not improve from 0.07972\n",
      "10/10 [==============================] - 2s 161ms/step - loss: 0.0631 - mean_squared_error: 0.1286 - val_loss: 0.0814 - val_mean_squared_error: 0.1650\n",
      "Epoch 38/100\n",
      " 9/10 [==========================>...] - ETA: 0s - loss: 0.0665 - mean_squared_error: 0.1355\n",
      "Epoch 38: val_loss did not improve from 0.07972\n",
      "10/10 [==============================] - 1s 147ms/step - loss: 0.0664 - mean_squared_error: 0.1353 - val_loss: 0.1051 - val_mean_squared_error: 0.2143\n",
      "Epoch 39/100\n",
      "10/10 [==============================] - ETA: 0s - loss: 0.0601 - mean_squared_error: 0.1224\n",
      "Epoch 39: val_loss did not improve from 0.07972\n",
      "10/10 [==============================] - 1s 133ms/step - loss: 0.0601 - mean_squared_error: 0.1224 - val_loss: 0.0937 - val_mean_squared_error: 0.1905\n",
      "Epoch 40/100\n",
      "10/10 [==============================] - ETA: 0s - loss: 0.0611 - mean_squared_error: 0.1242\n",
      "Epoch 40: val_loss did not improve from 0.07972\n",
      "10/10 [==============================] - 2s 187ms/step - loss: 0.0611 - mean_squared_error: 0.1242 - val_loss: 0.0836 - val_mean_squared_error: 0.1691\n",
      "Epoch 41/100\n",
      "10/10 [==============================] - ETA: 0s - loss: 0.0572 - mean_squared_error: 0.1166\n",
      "Epoch 41: val_loss did not improve from 0.07972\n",
      "10/10 [==============================] - 2s 161ms/step - loss: 0.0572 - mean_squared_error: 0.1166 - val_loss: 0.0950 - val_mean_squared_error: 0.1921\n",
      "Epoch 42/100\n",
      " 9/10 [==========================>...] - ETA: 0s - loss: 0.0557 - mean_squared_error: 0.1136\n",
      "Epoch 42: val_loss did not improve from 0.07972\n",
      "10/10 [==============================] - 1s 132ms/step - loss: 0.0558 - mean_squared_error: 0.1137 - val_loss: 0.0829 - val_mean_squared_error: 0.1670\n",
      "Epoch 43/100\n",
      " 9/10 [==========================>...] - ETA: 0s - loss: 0.0578 - mean_squared_error: 0.1177\n",
      "Epoch 43: val_loss did not improve from 0.07972\n",
      "10/10 [==============================] - 1s 128ms/step - loss: 0.0576 - mean_squared_error: 0.1174 - val_loss: 0.0947 - val_mean_squared_error: 0.1921\n",
      "Epoch 44/100\n",
      " 9/10 [==========================>...] - ETA: 0s - loss: 0.0538 - mean_squared_error: 0.1097\n",
      "Epoch 44: val_loss did not improve from 0.07972\n",
      "10/10 [==============================] - 1s 131ms/step - loss: 0.0538 - mean_squared_error: 0.1097 - val_loss: 0.0856 - val_mean_squared_error: 0.1727\n",
      "Epoch 45/100\n",
      " 9/10 [==========================>...] - ETA: 0s - loss: 0.0532 - mean_squared_error: 0.1085\n",
      "Epoch 45: val_loss did not improve from 0.07972\n",
      "10/10 [==============================] - 1s 127ms/step - loss: 0.0532 - mean_squared_error: 0.1084 - val_loss: 0.0812 - val_mean_squared_error: 0.1638\n",
      "Epoch 46/100\n",
      " 9/10 [==========================>...] - ETA: 0s - loss: 0.0524 - mean_squared_error: 0.1068\n",
      "Epoch 46: val_loss did not improve from 0.07972\n",
      "10/10 [==============================] - 1s 124ms/step - loss: 0.0523 - mean_squared_error: 0.1067 - val_loss: 0.0849 - val_mean_squared_error: 0.1709\n",
      "Epoch 47/100\n",
      " 9/10 [==========================>...] - ETA: 0s - loss: 0.0525 - mean_squared_error: 0.1069\n",
      "Epoch 47: val_loss did not improve from 0.07972\n",
      "10/10 [==============================] - 1s 123ms/step - loss: 0.0524 - mean_squared_error: 0.1067 - val_loss: 0.0914 - val_mean_squared_error: 0.1848\n",
      "Epoch 48/100\n",
      " 9/10 [==========================>...] - ETA: 0s - loss: 0.0512 - mean_squared_error: 0.1043\n",
      "Epoch 48: val_loss did not improve from 0.07972\n",
      "10/10 [==============================] - 1s 123ms/step - loss: 0.0511 - mean_squared_error: 0.1041 - val_loss: 0.0807 - val_mean_squared_error: 0.1628\n",
      "Epoch 49/100\n",
      " 9/10 [==========================>...] - ETA: 0s - loss: 0.0503 - mean_squared_error: 0.1027\n",
      "Epoch 49: val_loss did not improve from 0.07972\n"
     ]
    },
    {
     "name": "stdout",
     "output_type": "stream",
     "text": [
      "10/10 [==============================] - 1s 124ms/step - loss: 0.0502 - mean_squared_error: 0.1025 - val_loss: 0.0828 - val_mean_squared_error: 0.1673\n",
      "Epoch 50/100\n",
      " 9/10 [==========================>...] - ETA: 0s - loss: 0.0498 - mean_squared_error: 0.1016\n",
      "Epoch 50: val_loss did not improve from 0.07972\n",
      "10/10 [==============================] - 1s 123ms/step - loss: 0.0498 - mean_squared_error: 0.1015 - val_loss: 0.0908 - val_mean_squared_error: 0.1834\n",
      "Epoch 51/100\n",
      " 9/10 [==========================>...] - ETA: 0s - loss: 0.0501 - mean_squared_error: 0.1022\n",
      "Epoch 51: val_loss did not improve from 0.07972\n",
      "10/10 [==============================] - 1s 124ms/step - loss: 0.0501 - mean_squared_error: 0.1021 - val_loss: 0.0838 - val_mean_squared_error: 0.1687\n",
      "Epoch 52/100\n",
      " 9/10 [==========================>...] - ETA: 0s - loss: 0.0505 - mean_squared_error: 0.1030\n",
      "Epoch 52: val_loss did not improve from 0.07972\n",
      "10/10 [==============================] - 1s 123ms/step - loss: 0.0504 - mean_squared_error: 0.1029 - val_loss: 0.0859 - val_mean_squared_error: 0.1737\n",
      "Epoch 53/100\n",
      " 9/10 [==========================>...] - ETA: 0s - loss: 0.0473 - mean_squared_error: 0.0966\n",
      "Epoch 53: val_loss did not improve from 0.07972\n",
      "10/10 [==============================] - 1s 123ms/step - loss: 0.0473 - mean_squared_error: 0.0967 - val_loss: 0.0857 - val_mean_squared_error: 0.1727\n",
      "Epoch 54/100\n",
      " 9/10 [==========================>...] - ETA: 0s - loss: 0.0508 - mean_squared_error: 0.1037\n",
      "Epoch 54: val_loss did not improve from 0.07972\n",
      "10/10 [==============================] - 1s 125ms/step - loss: 0.0508 - mean_squared_error: 0.1038 - val_loss: 0.0881 - val_mean_squared_error: 0.1787\n",
      "Epoch 55/100\n",
      " 9/10 [==========================>...] - ETA: 0s - loss: 0.0488 - mean_squared_error: 0.0994\n",
      "Epoch 55: val_loss did not improve from 0.07972\n",
      "10/10 [==============================] - 1s 125ms/step - loss: 0.0488 - mean_squared_error: 0.0994 - val_loss: 0.0951 - val_mean_squared_error: 0.1920\n",
      "Epoch 56/100\n",
      " 9/10 [==========================>...] - ETA: 0s - loss: 0.0487 - mean_squared_error: 0.0994\n",
      "Epoch 56: val_loss did not improve from 0.07972\n",
      "10/10 [==============================] - 1s 125ms/step - loss: 0.0487 - mean_squared_error: 0.0995 - val_loss: 0.0830 - val_mean_squared_error: 0.1675\n",
      "Epoch 57/100\n",
      " 9/10 [==========================>...] - ETA: 0s - loss: 0.0484 - mean_squared_error: 0.0988\n",
      "Epoch 57: val_loss did not improve from 0.07972\n",
      "10/10 [==============================] - 1s 124ms/step - loss: 0.0483 - mean_squared_error: 0.0987 - val_loss: 0.0865 - val_mean_squared_error: 0.1741\n",
      "Epoch 58/100\n",
      " 9/10 [==========================>...] - ETA: 0s - loss: 0.0468 - mean_squared_error: 0.0956\n",
      "Epoch 58: val_loss did not improve from 0.07972\n",
      "10/10 [==============================] - 1s 125ms/step - loss: 0.0469 - mean_squared_error: 0.0959 - val_loss: 0.0815 - val_mean_squared_error: 0.1640\n",
      "Epoch 59/100\n",
      " 9/10 [==========================>...] - ETA: 0s - loss: 0.0480 - mean_squared_error: 0.0981\n",
      "Epoch 59: val_loss did not improve from 0.07972\n",
      "10/10 [==============================] - 1s 126ms/step - loss: 0.0480 - mean_squared_error: 0.0980 - val_loss: 0.0927 - val_mean_squared_error: 0.1871\n",
      "Epoch 60/100\n",
      " 9/10 [==========================>...] - ETA: 0s - loss: 0.0476 - mean_squared_error: 0.0972\n",
      "Epoch 60: val_loss improved from 0.07972 to 0.07760, saving model to 1 Weekly Seq2Seq GRU FC Layer Implementation Old University Data Using Std Scaler.h5\n",
      "10/10 [==============================] - 1s 128ms/step - loss: 0.0476 - mean_squared_error: 0.0971 - val_loss: 0.0776 - val_mean_squared_error: 0.1564\n",
      "Epoch 61/100\n",
      " 9/10 [==========================>...] - ETA: 0s - loss: 0.0556 - mean_squared_error: 0.1138\n",
      "Epoch 61: val_loss did not improve from 0.07760\n",
      "10/10 [==============================] - 1s 123ms/step - loss: 0.0555 - mean_squared_error: 0.1137 - val_loss: 0.1044 - val_mean_squared_error: 0.2129\n",
      "Epoch 62/100\n",
      " 9/10 [==========================>...] - ETA: 0s - loss: 0.0553 - mean_squared_error: 0.1131\n",
      "Epoch 62: val_loss did not improve from 0.07760\n",
      "10/10 [==============================] - 1s 125ms/step - loss: 0.0555 - mean_squared_error: 0.1133 - val_loss: 0.1118 - val_mean_squared_error: 0.2278\n",
      "Epoch 63/100\n",
      " 9/10 [==========================>...] - ETA: 0s - loss: 0.0646 - mean_squared_error: 0.1323\n",
      "Epoch 63: val_loss did not improve from 0.07760\n",
      "10/10 [==============================] - 1s 128ms/step - loss: 0.0646 - mean_squared_error: 0.1323 - val_loss: 0.0777 - val_mean_squared_error: 0.1565\n",
      "Epoch 64/100\n",
      " 9/10 [==========================>...] - ETA: 0s - loss: 0.0558 - mean_squared_error: 0.1140\n",
      "Epoch 64: val_loss did not improve from 0.07760\n",
      "10/10 [==============================] - 1s 123ms/step - loss: 0.0557 - mean_squared_error: 0.1138 - val_loss: 0.0987 - val_mean_squared_error: 0.1994\n",
      "Epoch 65/100\n",
      " 9/10 [==========================>...] - ETA: 0s - loss: 0.0483 - mean_squared_error: 0.0986\n",
      "Epoch 65: val_loss improved from 0.07760 to 0.07426, saving model to 1 Weekly Seq2Seq GRU FC Layer Implementation Old University Data Using Std Scaler.h5\n",
      "10/10 [==============================] - 1s 130ms/step - loss: 0.0483 - mean_squared_error: 0.0985 - val_loss: 0.0743 - val_mean_squared_error: 0.1495\n",
      "Epoch 66/100\n",
      " 9/10 [==========================>...] - ETA: 0s - loss: 0.0443 - mean_squared_error: 0.0905\n",
      "Epoch 66: val_loss improved from 0.07426 to 0.07415, saving model to 1 Weekly Seq2Seq GRU FC Layer Implementation Old University Data Using Std Scaler.h5\n",
      "10/10 [==============================] - 1s 128ms/step - loss: 0.0443 - mean_squared_error: 0.0905 - val_loss: 0.0741 - val_mean_squared_error: 0.1490\n",
      "Epoch 67/100\n",
      " 9/10 [==========================>...] - ETA: 0s - loss: 0.0455 - mean_squared_error: 0.0929\n",
      "Epoch 67: val_loss did not improve from 0.07415\n",
      "10/10 [==============================] - 1s 123ms/step - loss: 0.0455 - mean_squared_error: 0.0930 - val_loss: 0.0917 - val_mean_squared_error: 0.1852\n",
      "Epoch 68/100\n",
      " 9/10 [==========================>...] - ETA: 0s - loss: 0.0463 - mean_squared_error: 0.0944\n",
      "Epoch 68: val_loss did not improve from 0.07415\n",
      "10/10 [==============================] - 1s 123ms/step - loss: 0.0463 - mean_squared_error: 0.0944 - val_loss: 0.0855 - val_mean_squared_error: 0.1723\n",
      "Epoch 69/100\n",
      " 9/10 [==========================>...] - ETA: 0s - loss: 0.0438 - mean_squared_error: 0.0895\n",
      "Epoch 69: val_loss did not improve from 0.07415\n",
      "10/10 [==============================] - 1s 123ms/step - loss: 0.0440 - mean_squared_error: 0.0899 - val_loss: 0.0805 - val_mean_squared_error: 0.1620\n",
      "Epoch 70/100\n",
      " 9/10 [==========================>...] - ETA: 0s - loss: 0.0465 - mean_squared_error: 0.0948\n",
      "Epoch 70: val_loss did not improve from 0.07415\n",
      "10/10 [==============================] - 1s 122ms/step - loss: 0.0465 - mean_squared_error: 0.0948 - val_loss: 0.0753 - val_mean_squared_error: 0.1517\n",
      "Epoch 71/100\n",
      " 9/10 [==========================>...] - ETA: 0s - loss: 0.0508 - mean_squared_error: 0.1039\n",
      "Epoch 71: val_loss did not improve from 0.07415\n",
      "10/10 [==============================] - 1s 123ms/step - loss: 0.0508 - mean_squared_error: 0.1039 - val_loss: 0.0858 - val_mean_squared_error: 0.1727\n",
      "Epoch 72/100\n",
      " 9/10 [==========================>...] - ETA: 0s - loss: 0.0472 - mean_squared_error: 0.0964\n",
      "Epoch 72: val_loss did not improve from 0.07415\n",
      "10/10 [==============================] - 1s 122ms/step - loss: 0.0472 - mean_squared_error: 0.0963 - val_loss: 0.0881 - val_mean_squared_error: 0.1782\n",
      "Epoch 73/100\n",
      " 9/10 [==========================>...] - ETA: 0s - loss: 0.0460 - mean_squared_error: 0.0939\n",
      "Epoch 73: val_loss did not improve from 0.07415\n",
      "10/10 [==============================] - 1s 123ms/step - loss: 0.0460 - mean_squared_error: 0.0939 - val_loss: 0.0771 - val_mean_squared_error: 0.1557\n",
      "Epoch 74/100\n",
      " 9/10 [==========================>...] - ETA: 0s - loss: 0.0462 - mean_squared_error: 0.0941\n",
      "Epoch 74: val_loss did not improve from 0.07415\n",
      "10/10 [==============================] - 1s 123ms/step - loss: 0.0461 - mean_squared_error: 0.0940 - val_loss: 0.0840 - val_mean_squared_error: 0.1692\n",
      "Epoch 75/100\n"
     ]
    },
    {
     "name": "stdout",
     "output_type": "stream",
     "text": [
      " 9/10 [==========================>...] - ETA: 0s - loss: 0.0424 - mean_squared_error: 0.0867\n",
      "Epoch 75: val_loss did not improve from 0.07415\n",
      "10/10 [==============================] - 1s 122ms/step - loss: 0.0424 - mean_squared_error: 0.0866 - val_loss: 0.0767 - val_mean_squared_error: 0.1543\n",
      "Epoch 76/100\n",
      " 9/10 [==========================>...] - ETA: 0s - loss: 0.0438 - mean_squared_error: 0.0892\n",
      "Epoch 76: val_loss did not improve from 0.07415\n",
      "10/10 [==============================] - 1s 124ms/step - loss: 0.0437 - mean_squared_error: 0.0891 - val_loss: 0.0838 - val_mean_squared_error: 0.1691\n",
      "Epoch 77/100\n",
      " 9/10 [==========================>...] - ETA: 0s - loss: 0.0423 - mean_squared_error: 0.0865\n",
      "Epoch 77: val_loss did not improve from 0.07415\n",
      "10/10 [==============================] - 1s 124ms/step - loss: 0.0423 - mean_squared_error: 0.0864 - val_loss: 0.0947 - val_mean_squared_error: 0.1912\n",
      "Epoch 78/100\n",
      " 9/10 [==========================>...] - ETA: 0s - loss: 0.0412 - mean_squared_error: 0.0842\n",
      "Epoch 78: val_loss did not improve from 0.07415\n",
      "10/10 [==============================] - 1s 134ms/step - loss: 0.0412 - mean_squared_error: 0.0842 - val_loss: 0.0761 - val_mean_squared_error: 0.1534\n",
      "Epoch 79/100\n",
      "10/10 [==============================] - ETA: 0s - loss: 0.0443 - mean_squared_error: 0.0905\n",
      "Epoch 79: val_loss did not improve from 0.07415\n",
      "10/10 [==============================] - 1s 127ms/step - loss: 0.0443 - mean_squared_error: 0.0905 - val_loss: 0.0748 - val_mean_squared_error: 0.1511\n",
      "Epoch 80/100\n",
      "10/10 [==============================] - ETA: 0s - loss: 0.0462 - mean_squared_error: 0.0944\n",
      "Epoch 80: val_loss did not improve from 0.07415\n",
      "10/10 [==============================] - 1s 127ms/step - loss: 0.0462 - mean_squared_error: 0.0944 - val_loss: 0.1125 - val_mean_squared_error: 0.2276\n",
      "Epoch 81/100\n",
      "10/10 [==============================] - ETA: 0s - loss: 0.0506 - mean_squared_error: 0.1032\n",
      "Epoch 81: val_loss improved from 0.07415 to 0.07406, saving model to 1 Weekly Seq2Seq GRU FC Layer Implementation Old University Data Using Std Scaler.h5\n",
      "10/10 [==============================] - 1s 131ms/step - loss: 0.0506 - mean_squared_error: 0.1032 - val_loss: 0.0741 - val_mean_squared_error: 0.1489\n",
      "Epoch 82/100\n",
      "10/10 [==============================] - ETA: 0s - loss: 0.0454 - mean_squared_error: 0.0925\n",
      "Epoch 82: val_loss did not improve from 0.07406\n",
      "10/10 [==============================] - 1s 126ms/step - loss: 0.0454 - mean_squared_error: 0.0925 - val_loss: 0.0774 - val_mean_squared_error: 0.1556\n",
      "Epoch 83/100\n",
      "10/10 [==============================] - ETA: 0s - loss: 0.0403 - mean_squared_error: 0.0825\n",
      "Epoch 83: val_loss did not improve from 0.07406\n",
      "10/10 [==============================] - 1s 123ms/step - loss: 0.0403 - mean_squared_error: 0.0825 - val_loss: 0.0792 - val_mean_squared_error: 0.1594\n",
      "Epoch 84/100\n",
      "10/10 [==============================] - ETA: 0s - loss: 0.0391 - mean_squared_error: 0.0799\n",
      "Epoch 84: val_loss did not improve from 0.07406\n",
      "10/10 [==============================] - 1s 127ms/step - loss: 0.0391 - mean_squared_error: 0.0799 - val_loss: 0.0794 - val_mean_squared_error: 0.1600\n",
      "Epoch 85/100\n",
      "10/10 [==============================] - ETA: 0s - loss: 0.0391 - mean_squared_error: 0.0801\n",
      "Epoch 85: val_loss did not improve from 0.07406\n",
      "10/10 [==============================] - 1s 131ms/step - loss: 0.0391 - mean_squared_error: 0.0801 - val_loss: 0.0825 - val_mean_squared_error: 0.1660\n",
      "Epoch 86/100\n",
      "10/10 [==============================] - ETA: 0s - loss: 0.0385 - mean_squared_error: 0.0788\n",
      "Epoch 86: val_loss did not improve from 0.07406\n",
      "10/10 [==============================] - 1s 125ms/step - loss: 0.0385 - mean_squared_error: 0.0788 - val_loss: 0.0827 - val_mean_squared_error: 0.1667\n",
      "Epoch 87/100\n",
      "10/10 [==============================] - ETA: 0s - loss: 0.0374 - mean_squared_error: 0.0766\n",
      "Epoch 87: val_loss did not improve from 0.07406\n",
      "10/10 [==============================] - 1s 126ms/step - loss: 0.0374 - mean_squared_error: 0.0766 - val_loss: 0.0898 - val_mean_squared_error: 0.1810\n",
      "Epoch 88/100\n",
      "10/10 [==============================] - ETA: 0s - loss: 0.0379 - mean_squared_error: 0.0777\n",
      "Epoch 88: val_loss did not improve from 0.07406\n",
      "10/10 [==============================] - 1s 124ms/step - loss: 0.0379 - mean_squared_error: 0.0777 - val_loss: 0.0759 - val_mean_squared_error: 0.1528\n",
      "Epoch 89/100\n",
      "10/10 [==============================] - ETA: 0s - loss: 0.0382 - mean_squared_error: 0.0782\n",
      "Epoch 89: val_loss did not improve from 0.07406\n",
      "10/10 [==============================] - 1s 125ms/step - loss: 0.0382 - mean_squared_error: 0.0782 - val_loss: 0.0805 - val_mean_squared_error: 0.1622\n",
      "Epoch 90/100\n",
      "10/10 [==============================] - ETA: 0s - loss: 0.0396 - mean_squared_error: 0.0809\n",
      "Epoch 90: val_loss did not improve from 0.07406\n",
      "10/10 [==============================] - 1s 125ms/step - loss: 0.0396 - mean_squared_error: 0.0809 - val_loss: 0.0850 - val_mean_squared_error: 0.1714\n",
      "Epoch 91/100\n",
      "10/10 [==============================] - ETA: 0s - loss: 0.0379 - mean_squared_error: 0.0776\n",
      "Epoch 91: val_loss did not improve from 0.07406\n",
      "10/10 [==============================] - 1s 123ms/step - loss: 0.0379 - mean_squared_error: 0.0776 - val_loss: 0.0750 - val_mean_squared_error: 0.1508\n",
      "Epoch 92/100\n",
      "10/10 [==============================] - ETA: 0s - loss: 0.0426 - mean_squared_error: 0.0871\n",
      "Epoch 92: val_loss did not improve from 0.07406\n",
      "10/10 [==============================] - 1s 127ms/step - loss: 0.0426 - mean_squared_error: 0.0871 - val_loss: 0.0850 - val_mean_squared_error: 0.1713\n",
      "Epoch 93/100\n",
      " 9/10 [==========================>...] - ETA: 0s - loss: 0.0392 - mean_squared_error: 0.0803\n",
      "Epoch 93: val_loss did not improve from 0.07406\n",
      "10/10 [==============================] - 1s 124ms/step - loss: 0.0392 - mean_squared_error: 0.0802 - val_loss: 0.0896 - val_mean_squared_error: 0.1806\n",
      "Epoch 94/100\n",
      "10/10 [==============================] - ETA: 0s - loss: 0.0377 - mean_squared_error: 0.0772\n",
      "Epoch 94: val_loss did not improve from 0.07406\n",
      "10/10 [==============================] - 1s 126ms/step - loss: 0.0377 - mean_squared_error: 0.0772 - val_loss: 0.0805 - val_mean_squared_error: 0.1621\n",
      "Epoch 95/100\n",
      " 9/10 [==========================>...] - ETA: 0s - loss: 0.0360 - mean_squared_error: 0.0737\n",
      "Epoch 95: val_loss did not improve from 0.07406\n",
      "10/10 [==============================] - 1s 124ms/step - loss: 0.0360 - mean_squared_error: 0.0736 - val_loss: 0.0792 - val_mean_squared_error: 0.1592\n",
      "Epoch 96/100\n",
      " 9/10 [==========================>...] - ETA: 0s - loss: 0.0358 - mean_squared_error: 0.0734\n",
      "Epoch 96: val_loss did not improve from 0.07406\n",
      "10/10 [==============================] - 1s 124ms/step - loss: 0.0358 - mean_squared_error: 0.0733 - val_loss: 0.0755 - val_mean_squared_error: 0.1519\n",
      "Epoch 97/100\n",
      "10/10 [==============================] - ETA: 0s - loss: 0.0340 - mean_squared_error: 0.0697\n",
      "Epoch 97: val_loss did not improve from 0.07406\n",
      "10/10 [==============================] - 1s 128ms/step - loss: 0.0340 - mean_squared_error: 0.0697 - val_loss: 0.0809 - val_mean_squared_error: 0.1628\n",
      "Epoch 98/100\n",
      " 9/10 [==========================>...] - ETA: 0s - loss: 0.0356 - mean_squared_error: 0.0729\n",
      "Epoch 98: val_loss did not improve from 0.07406\n",
      "10/10 [==============================] - 1s 124ms/step - loss: 0.0356 - mean_squared_error: 0.0728 - val_loss: 0.0861 - val_mean_squared_error: 0.1736\n",
      "Epoch 99/100\n",
      " 9/10 [==========================>...] - ETA: 0s - loss: 0.0364 - mean_squared_error: 0.0744\n",
      "Epoch 99: val_loss did not improve from 0.07406\n",
      "10/10 [==============================] - 1s 122ms/step - loss: 0.0365 - mean_squared_error: 0.0745 - val_loss: 0.0815 - val_mean_squared_error: 0.1639\n",
      "Epoch 100/100\n",
      "10/10 [==============================] - ETA: 0s - loss: 0.0366 - mean_squared_error: 0.0750\n",
      "Epoch 100: val_loss did not improve from 0.07406\n",
      "10/10 [==============================] - 1s 125ms/step - loss: 0.0366 - mean_squared_error: 0.0750 - val_loss: 0.0767 - val_mean_squared_error: 0.1544\n"
     ]
    }
   ],
   "source": [
    "lr_schedule = tf.keras.optimizers.schedules.ExponentialDecay(\n",
    "    0.1,\n",
    "    decay_steps=1000,\n",
    "    decay_rate=0.5)\n",
    "\n",
    "model_chk = tf.keras.callbacks.ModelCheckpoint(\n",
    "            '1 Weekly Seq2Seq GRU FC Layer Implementation Old University Data Using Std Scaler.h5',monitor=\"val_loss\",mode='min',verbose=1,save_best_only=True\n",
    ")\n",
    "\n",
    "history = My_Model.fit(x=[tra_data_sli,tra_decod],y=tra_lab, epochs=MAX_EPOCH, batch_size=BATCH_SIZE,validation_data=([val_data_sli,val_decod], val_lab), verbose=1,callbacks=[model_chk])"
   ]
  },
  {
   "cell_type": "code",
   "execution_count": 39,
   "id": "5f9d8c78",
   "metadata": {},
   "outputs": [
    {
     "name": "stdout",
     "output_type": "stream",
     "text": [
      "5/5 [==============================] - 10s 21ms/step\n"
     ]
    }
   ],
   "source": [
    "predict = My_Model.predict(x=[tes_data_sli,tes_decod])"
   ]
  },
  {
   "cell_type": "code",
   "execution_count": 40,
   "id": "38347b37",
   "metadata": {},
   "outputs": [
    {
     "data": {
      "text/plain": [
       "(149, 24)"
      ]
     },
     "execution_count": 40,
     "metadata": {},
     "output_type": "execute_result"
    }
   ],
   "source": [
    "predict.shape"
   ]
  },
  {
   "cell_type": "code",
   "execution_count": 45,
   "id": "135c7ba9",
   "metadata": {},
   "outputs": [
    {
     "data": {
      "text/plain": [
       "(149, 24)"
      ]
     },
     "execution_count": 45,
     "metadata": {},
     "output_type": "execute_result"
    }
   ],
   "source": [
    "\n",
    "predict.shape"
   ]
  },
  {
   "cell_type": "code",
   "execution_count": 47,
   "id": "8a2fa4b8",
   "metadata": {},
   "outputs": [
    {
     "data": {
      "text/plain": [
       "(3576, 10)"
      ]
     },
     "execution_count": 47,
     "metadata": {},
     "output_type": "execute_result"
    }
   ],
   "source": [
    "np.repeat(predict.flatten().reshape(-1,1),10,axis=1).shape"
   ]
  },
  {
   "cell_type": "code",
   "execution_count": 48,
   "id": "e09a366a",
   "metadata": {},
   "outputs": [],
   "source": [
    "prediction = test_scaler.inverse_transform(np.repeat(predict.flatten().reshape(-1,1),10,axis=1))"
   ]
  },
  {
   "cell_type": "code",
   "execution_count": 49,
   "id": "13b02833",
   "metadata": {},
   "outputs": [],
   "source": [
    "grou_tru = test_scaler.inverse_transform(np.repeat(tes_lab.flatten().reshape(-1,1),10,axis=1))"
   ]
  },
  {
   "cell_type": "code",
   "execution_count": null,
   "id": "f43d42be",
   "metadata": {},
   "outputs": [],
   "source": []
  },
  {
   "cell_type": "code",
   "execution_count": 50,
   "id": "c8eb2db9",
   "metadata": {},
   "outputs": [
    {
     "name": "stdout",
     "output_type": "stream",
     "text": [
      "The mean squared error is  282324.99293149984\n",
      "The mean abolsute error is  412.53251876660374\n"
     ]
    }
   ],
   "source": [
    "print(\"The mean squared error is \", mean_squared_error(grou_tru[:,0],prediction[:,0]))\n",
    "print(\"The mean abolsute error is \", mean_absolute_error(grou_tru[:,0],prediction[:,0]))"
   ]
  },
  {
   "cell_type": "code",
   "execution_count": 51,
   "id": "ba376ba4",
   "metadata": {},
   "outputs": [
    {
     "data": {
      "text/plain": [
       "<matplotlib.legend.Legend at 0x238d2a5b460>"
      ]
     },
     "execution_count": 51,
     "metadata": {},
     "output_type": "execute_result"
    },
    {
     "data": {
      "image/png": "[encoded data removed]",
      "text/plain": [
       "<Figure size 432x288 with 1 Axes>"
      ]
     },
     "metadata": {
      "needs_background": "light"
     },
     "output_type": "display_data"
    }
   ],
   "source": [
    "plt.plot(history.history['val_loss'])\n",
    "plt.plot(history.history['loss'])\n",
    "plt.xlabel('epochs')\n",
    "plt.legend(['val_loss', 'loss'], loc='upper left')\n"
   ]
  },
  {
   "cell_type": "code",
   "execution_count": 53,
   "id": "5cafb9ba",
   "metadata": {},
   "outputs": [
    {
     "name": "stdout",
     "output_type": "stream",
     "text": [
      "5/5 [==============================] - 11s 19ms/step\n"
     ]
    }
   ],
   "source": [
    "model_seq_to_seq_with_atten = keras.models.load_model('1 Weekly Seq2Seq GRU FC Layer Implementation Old University Data Using Std Scaler.h5') \n",
    "predict_wout_attention = model_seq_to_seq_with_atten.predict(x=[tes_data_sli,tes_decod])\n"
   ]
  },
  {
   "cell_type": "code",
   "execution_count": 54,
   "id": "0e37fd9b",
   "metadata": {},
   "outputs": [],
   "source": [
    "grou_tru = test_scaler.inverse_transform(np.repeat(tes_lab.flatten().reshape(-1,1),10,axis=1))\n",
    "prediction_without_attention = test_scaler.inverse_transform(np.repeat(predict_wout_attention.flatten().reshape(-1,1),10,axis=1))\n"
   ]
  },
  {
   "cell_type": "code",
   "execution_count": 55,
   "id": "6742f29b",
   "metadata": {},
   "outputs": [
    {
     "name": "stdout",
     "output_type": "stream",
     "text": [
      "287450.0024865983\n",
      "415.8421527085955\n"
     ]
    }
   ],
   "source": [
    "print(mean_squared_error(grou_tru[:,0],prediction_without_attention[:,0]))\n",
    "print(mean_absolute_error(grou_tru[:,0],prediction_without_attention[:,0]))\n",
    "#print((r2_score(grou_tru[:,0],prediction_without_attention[:,0])))"
   ]
  },
  {
   "cell_type": "code",
   "execution_count": 56,
   "id": "86252831",
   "metadata": {},
   "outputs": [
    {
     "data": {
      "text/html": [
       "<div>\n",
       "<style scoped>\n",
       "    .dataframe tbody tr th:only-of-type {\n",
       "        vertical-align: middle;\n",
       "    }\n",
       "\n",
       "    .dataframe tbody tr th {\n",
       "        vertical-align: top;\n",
       "    }\n",
       "\n",
       "    .dataframe thead th {\n",
       "        text-align: right;\n",
       "    }\n",
       "</style>\n",
       "<table border=\"1\" class=\"dataframe\">\n",
       "  <thead>\n",
       "    <tr style=\"text-align: right;\">\n",
       "      <th></th>\n",
       "      <th>Load(KW)</th>\n",
       "      <th>Temp (°C)</th>\n",
       "      <th>Dew Point Temp (°C)</th>\n",
       "      <th>Rel Hum (%)</th>\n",
       "      <th>Wind Dir (10s deg)</th>\n",
       "      <th>Wind Spd (km/h)</th>\n",
       "      <th>Visibility (km)</th>\n",
       "      <th>Stn Press (kPa)</th>\n",
       "      <th>is_weekday</th>\n",
       "      <th>month</th>\n",
       "    </tr>\n",
       "    <tr>\n",
       "      <th>datetime</th>\n",
       "      <th></th>\n",
       "      <th></th>\n",
       "      <th></th>\n",
       "      <th></th>\n",
       "      <th></th>\n",
       "      <th></th>\n",
       "      <th></th>\n",
       "      <th></th>\n",
       "      <th></th>\n",
       "      <th></th>\n",
       "    </tr>\n",
       "  </thead>\n",
       "  <tbody>\n",
       "    <tr>\n",
       "      <th>2019-10-28 00:00:00</th>\n",
       "      <td>10152.0</td>\n",
       "      <td>3.6</td>\n",
       "      <td>2.5</td>\n",
       "      <td>92.0</td>\n",
       "      <td>36.0</td>\n",
       "      <td>23.0</td>\n",
       "      <td>24.1</td>\n",
       "      <td>99.83</td>\n",
       "      <td>1.0</td>\n",
       "      <td>10.0</td>\n",
       "    </tr>\n",
       "    <tr>\n",
       "      <th>2019-10-28 01:00:00</th>\n",
       "      <td>10092.0</td>\n",
       "      <td>3.7</td>\n",
       "      <td>3.0</td>\n",
       "      <td>95.0</td>\n",
       "      <td>36.0</td>\n",
       "      <td>18.0</td>\n",
       "      <td>16.1</td>\n",
       "      <td>99.85</td>\n",
       "      <td>1.0</td>\n",
       "      <td>10.0</td>\n",
       "    </tr>\n",
       "    <tr>\n",
       "      <th>2019-10-28 02:00:00</th>\n",
       "      <td>9960.0</td>\n",
       "      <td>4.0</td>\n",
       "      <td>3.5</td>\n",
       "      <td>96.0</td>\n",
       "      <td>35.0</td>\n",
       "      <td>20.0</td>\n",
       "      <td>16.1</td>\n",
       "      <td>99.88</td>\n",
       "      <td>1.0</td>\n",
       "      <td>10.0</td>\n",
       "    </tr>\n",
       "    <tr>\n",
       "      <th>2019-10-28 03:00:00</th>\n",
       "      <td>10008.0</td>\n",
       "      <td>3.4</td>\n",
       "      <td>2.8</td>\n",
       "      <td>96.0</td>\n",
       "      <td>36.0</td>\n",
       "      <td>30.0</td>\n",
       "      <td>8.1</td>\n",
       "      <td>99.88</td>\n",
       "      <td>1.0</td>\n",
       "      <td>10.0</td>\n",
       "    </tr>\n",
       "    <tr>\n",
       "      <th>2019-10-28 04:00:00</th>\n",
       "      <td>10296.0</td>\n",
       "      <td>2.8</td>\n",
       "      <td>2.2</td>\n",
       "      <td>96.0</td>\n",
       "      <td>36.0</td>\n",
       "      <td>29.0</td>\n",
       "      <td>8.1</td>\n",
       "      <td>99.92</td>\n",
       "      <td>1.0</td>\n",
       "      <td>10.0</td>\n",
       "    </tr>\n",
       "    <tr>\n",
       "      <th>...</th>\n",
       "      <td>...</td>\n",
       "      <td>...</td>\n",
       "      <td>...</td>\n",
       "      <td>...</td>\n",
       "      <td>...</td>\n",
       "      <td>...</td>\n",
       "      <td>...</td>\n",
       "      <td>...</td>\n",
       "      <td>...</td>\n",
       "      <td>...</td>\n",
       "    </tr>\n",
       "    <tr>\n",
       "      <th>2020-03-31 19:00:00</th>\n",
       "      <td>10500.0</td>\n",
       "      <td>0.6</td>\n",
       "      <td>0.4</td>\n",
       "      <td>99.0</td>\n",
       "      <td>9.0</td>\n",
       "      <td>10.0</td>\n",
       "      <td>0.6</td>\n",
       "      <td>99.93</td>\n",
       "      <td>1.0</td>\n",
       "      <td>3.0</td>\n",
       "    </tr>\n",
       "    <tr>\n",
       "      <th>2020-03-31 20:00:00</th>\n",
       "      <td>10332.0</td>\n",
       "      <td>1.6</td>\n",
       "      <td>1.4</td>\n",
       "      <td>99.0</td>\n",
       "      <td>11.0</td>\n",
       "      <td>14.0</td>\n",
       "      <td>0.2</td>\n",
       "      <td>99.97</td>\n",
       "      <td>1.0</td>\n",
       "      <td>3.0</td>\n",
       "    </tr>\n",
       "    <tr>\n",
       "      <th>2020-03-31 21:00:00</th>\n",
       "      <td>9984.0</td>\n",
       "      <td>2.3</td>\n",
       "      <td>2.1</td>\n",
       "      <td>99.0</td>\n",
       "      <td>14.0</td>\n",
       "      <td>17.0</td>\n",
       "      <td>0.2</td>\n",
       "      <td>100.00</td>\n",
       "      <td>1.0</td>\n",
       "      <td>3.0</td>\n",
       "    </tr>\n",
       "    <tr>\n",
       "      <th>2020-03-31 22:00:00</th>\n",
       "      <td>9744.0</td>\n",
       "      <td>2.6</td>\n",
       "      <td>2.5</td>\n",
       "      <td>99.0</td>\n",
       "      <td>15.0</td>\n",
       "      <td>17.0</td>\n",
       "      <td>0.2</td>\n",
       "      <td>100.03</td>\n",
       "      <td>1.0</td>\n",
       "      <td>3.0</td>\n",
       "    </tr>\n",
       "    <tr>\n",
       "      <th>2020-03-31 23:00:00</th>\n",
       "      <td>9660.0</td>\n",
       "      <td>2.2</td>\n",
       "      <td>2.1</td>\n",
       "      <td>99.0</td>\n",
       "      <td>14.0</td>\n",
       "      <td>18.0</td>\n",
       "      <td>0.2</td>\n",
       "      <td>100.05</td>\n",
       "      <td>1.0</td>\n",
       "      <td>3.0</td>\n",
       "    </tr>\n",
       "  </tbody>\n",
       "</table>\n",
       "<p>3744 rows × 10 columns</p>\n",
       "</div>"
      ],
      "text/plain": [
       "                      Load(KW)     Temp (°C)  Dew Point Temp (°C)  \\\n",
       "datetime                                                            \n",
       "2019-10-28 00:00:00       10152.0        3.6                  2.5   \n",
       "2019-10-28 01:00:00       10092.0        3.7                  3.0   \n",
       "2019-10-28 02:00:00        9960.0        4.0                  3.5   \n",
       "2019-10-28 03:00:00       10008.0        3.4                  2.8   \n",
       "2019-10-28 04:00:00       10296.0        2.8                  2.2   \n",
       "...                           ...        ...                  ...   \n",
       "2020-03-31 19:00:00       10500.0        0.6                  0.4   \n",
       "2020-03-31 20:00:00       10332.0        1.6                  1.4   \n",
       "2020-03-31 21:00:00        9984.0        2.3                  2.1   \n",
       "2020-03-31 22:00:00        9744.0        2.6                  2.5   \n",
       "2020-03-31 23:00:00        9660.0        2.2                  2.1   \n",
       "\n",
       "                     Rel Hum (%)  Wind Dir (10s deg)  Wind Spd (km/h)  \\\n",
       "datetime                                                                \n",
       "2019-10-28 00:00:00         92.0                36.0             23.0   \n",
       "2019-10-28 01:00:00         95.0                36.0             18.0   \n",
       "2019-10-28 02:00:00         96.0                35.0             20.0   \n",
       "2019-10-28 03:00:00         96.0                36.0             30.0   \n",
       "2019-10-28 04:00:00         96.0                36.0             29.0   \n",
       "...                          ...                 ...              ...   \n",
       "2020-03-31 19:00:00         99.0                 9.0             10.0   \n",
       "2020-03-31 20:00:00         99.0                11.0             14.0   \n",
       "2020-03-31 21:00:00         99.0                14.0             17.0   \n",
       "2020-03-31 22:00:00         99.0                15.0             17.0   \n",
       "2020-03-31 23:00:00         99.0                14.0             18.0   \n",
       "\n",
       "                     Visibility (km)  Stn Press (kPa)  is_weekday  month  \n",
       "datetime                                                                  \n",
       "2019-10-28 00:00:00             24.1            99.83         1.0   10.0  \n",
       "2019-10-28 01:00:00             16.1            99.85         1.0   10.0  \n",
       "2019-10-28 02:00:00             16.1            99.88         1.0   10.0  \n",
       "2019-10-28 03:00:00              8.1            99.88         1.0   10.0  \n",
       "2019-10-28 04:00:00              8.1            99.92         1.0   10.0  \n",
       "...                              ...              ...         ...    ...  \n",
       "2020-03-31 19:00:00              0.6            99.93         1.0    3.0  \n",
       "2020-03-31 20:00:00              0.2            99.97         1.0    3.0  \n",
       "2020-03-31 21:00:00              0.2           100.00         1.0    3.0  \n",
       "2020-03-31 22:00:00              0.2           100.03         1.0    3.0  \n",
       "2020-03-31 23:00:00              0.2           100.05         1.0    3.0  \n",
       "\n",
       "[3744 rows x 10 columns]"
      ]
     },
     "execution_count": 56,
     "metadata": {},
     "output_type": "execute_result"
    }
   ],
   "source": [
    "test_data"
   ]
  },
  {
   "cell_type": "code",
   "execution_count": null,
   "id": "6bece6f6",
   "metadata": {},
   "outputs": [],
   "source": []
  },
  {
   "cell_type": "code",
   "execution_count": null,
   "id": "8f7a1032",
   "metadata": {},
   "outputs": [],
   "source": []
  },
  {
   "cell_type": "code",
   "execution_count": null,
   "id": "6c34698f",
   "metadata": {},
   "outputs": [],
   "source": []
  },
  {
   "cell_type": "code",
   "execution_count": null,
   "id": "bdb0dc64",
   "metadata": {},
   "outputs": [],
   "source": []
  },
  {
   "cell_type": "code",
   "execution_count": null,
   "id": "0cc8cc1d",
   "metadata": {},
   "outputs": [],
   "source": []
  },
  {
   "cell_type": "code",
   "execution_count": null,
   "id": "a7982e4b",
   "metadata": {},
   "outputs": [],
   "source": []
  },
  {
   "cell_type": "code",
   "execution_count": null,
   "id": "cfbb0fcb",
   "metadata": {},
   "outputs": [],
   "source": []
  },
  {
   "cell_type": "code",
   "execution_count": null,
   "id": "4358618c",
   "metadata": {},
   "outputs": [],
   "source": []
  },
  {
   "cell_type": "code",
   "execution_count": null,
   "id": "6cf30e11",
   "metadata": {},
   "outputs": [],
   "source": []
  },
  {
   "cell_type": "code",
   "execution_count": null,
   "id": "bccf37b2",
   "metadata": {},
   "outputs": [],
   "source": []
  },
  {
   "cell_type": "code",
   "execution_count": null,
   "id": "1f6d7f77",
   "metadata": {},
   "outputs": [],
   "source": []
  },
  {
   "cell_type": "code",
   "execution_count": null,
   "id": "97385cbf",
   "metadata": {},
   "outputs": [],
   "source": []
  },
  {
   "cell_type": "code",
   "execution_count": null,
   "id": "f954ceb0",
   "metadata": {},
   "outputs": [],
   "source": []
  },
  {
   "cell_type": "code",
   "execution_count": null,
   "id": "4f26134c",
   "metadata": {},
   "outputs": [],
   "source": []
  },
  {
   "cell_type": "code",
   "execution_count": null,
   "id": "6000e60c",
   "metadata": {},
   "outputs": [],
   "source": []
  },
  {
   "cell_type": "code",
   "execution_count": null,
   "id": "3228e8be",
   "metadata": {},
   "outputs": [],
   "source": []
  },
  {
   "cell_type": "code",
   "execution_count": null,
   "id": "b6562dbf",
   "metadata": {},
   "outputs": [],
   "source": []
  },
  {
   "cell_type": "code",
   "execution_count": null,
   "id": "0c60987e",
   "metadata": {},
   "outputs": [],
   "source": []
  },
  {
   "cell_type": "code",
   "execution_count": null,
   "id": "3a93a09a",
   "metadata": {},
   "outputs": [],
   "source": []
  },
  {
   "cell_type": "code",
   "execution_count": null,
   "id": "5341bd07",
   "metadata": {},
   "outputs": [],
   "source": []
  },
  {
   "cell_type": "code",
   "execution_count": null,
   "id": "7e3f63d2",
   "metadata": {},
   "outputs": [],
   "source": []
  },
  {
   "cell_type": "code",
   "execution_count": null,
   "id": "834d2635",
   "metadata": {},
   "outputs": [],
   "source": []
  },
  {
   "cell_type": "code",
   "execution_count": null,
   "id": "94ecd32a",
   "metadata": {},
   "outputs": [],
   "source": []
  },
  {
   "cell_type": "code",
   "execution_count": null,
   "id": "a970f5bc",
   "metadata": {},
   "outputs": [],
   "source": []
  },
  {
   "cell_type": "code",
   "execution_count": null,
   "id": "6e2568d9",
   "metadata": {},
   "outputs": [],
   "source": []
  },
  {
   "cell_type": "code",
   "execution_count": null,
   "id": "63f77d56",
   "metadata": {},
   "outputs": [],
   "source": []
  },
  {
   "cell_type": "code",
   "execution_count": null,
   "id": "6839d31b",
   "metadata": {},
   "outputs": [],
   "source": []
  },
  {
   "cell_type": "code",
   "execution_count": null,
   "id": "9222dec0",
   "metadata": {},
   "outputs": [],
   "source": []
  },
  {
   "cell_type": "code",
   "execution_count": null,
   "id": "705c5509",
   "metadata": {},
   "outputs": [],
   "source": []
  },
  {
   "cell_type": "code",
   "execution_count": null,
   "id": "a576c70e",
   "metadata": {},
   "outputs": [],
   "source": []
  },
  {
   "cell_type": "code",
   "execution_count": null,
   "id": "109a5830",
   "metadata": {},
   "outputs": [],
   "source": []
  },
  {
   "cell_type": "code",
   "execution_count": null,
   "id": "23ee6a51",
   "metadata": {},
   "outputs": [],
   "source": []
  },
  {
   "cell_type": "code",
   "execution_count": null,
   "id": "8bf19db6",
   "metadata": {},
   "outputs": [],
   "source": []
  },
  {
   "cell_type": "code",
   "execution_count": null,
   "id": "a69a0aa3",
   "metadata": {},
   "outputs": [],
   "source": [
    "tes_data_sli.shape"
   ]
  },
  {
   "cell_type": "code",
   "execution_count": null,
   "id": "1c31b703",
   "metadata": {},
   "outputs": [],
   "source": [
    "tes_data_sli"
   ]
  },
  {
   "cell_type": "code",
   "execution_count": null,
   "id": "a28b21b2",
   "metadata": {},
   "outputs": [],
   "source": []
  },
  {
   "cell_type": "code",
   "execution_count": null,
   "id": "36bef3b8",
   "metadata": {},
   "outputs": [],
   "source": []
  },
  {
   "cell_type": "code",
   "execution_count": null,
   "id": "fc2dc972",
   "metadata": {},
   "outputs": [],
   "source": []
  },
  {
   "cell_type": "code",
   "execution_count": null,
   "id": "21fdbf4f",
   "metadata": {},
   "outputs": [],
   "source": []
  },
  {
   "cell_type": "code",
   "execution_count": null,
   "id": "10aad762",
   "metadata": {},
   "outputs": [],
   "source": []
  },
  {
   "cell_type": "code",
   "execution_count": null,
   "id": "7b67a4b9",
   "metadata": {},
   "outputs": [],
   "source": []
  },
  {
   "cell_type": "code",
   "execution_count": null,
   "id": "4b59ac38",
   "metadata": {},
   "outputs": [],
   "source": []
  },
  {
   "cell_type": "code",
   "execution_count": null,
   "id": "4f4b31d5",
   "metadata": {},
   "outputs": [],
   "source": []
  },
  {
   "cell_type": "code",
   "execution_count": null,
   "id": "e5a74901",
   "metadata": {},
   "outputs": [],
   "source": []
  },
  {
   "cell_type": "code",
   "execution_count": null,
   "id": "471a2feb",
   "metadata": {},
   "outputs": [],
   "source": []
  },
  {
   "cell_type": "code",
   "execution_count": null,
   "id": "89383ba8",
   "metadata": {},
   "outputs": [],
   "source": []
  },
  {
   "cell_type": "code",
   "execution_count": null,
   "id": "720123a1",
   "metadata": {},
   "outputs": [],
   "source": []
  },
  {
   "cell_type": "code",
   "execution_count": null,
   "id": "9813b8fc",
   "metadata": {},
   "outputs": [],
   "source": []
  },
  {
   "cell_type": "code",
   "execution_count": null,
   "id": "47f1accb",
   "metadata": {},
   "outputs": [],
   "source": []
  },
  {
   "cell_type": "code",
   "execution_count": null,
   "id": "4e42006b",
   "metadata": {},
   "outputs": [],
   "source": []
  },
  {
   "cell_type": "code",
   "execution_count": null,
   "id": "33dd8868",
   "metadata": {},
   "outputs": [],
   "source": []
  },
  {
   "cell_type": "code",
   "execution_count": null,
   "id": "b9db28aa",
   "metadata": {},
   "outputs": [],
   "source": []
  },
  {
   "cell_type": "code",
   "execution_count": null,
   "id": "d2c6864c",
   "metadata": {},
   "outputs": [],
   "source": []
  },
  {
   "cell_type": "code",
   "execution_count": null,
   "id": "c6e2b60f",
   "metadata": {},
   "outputs": [],
   "source": []
  },
  {
   "cell_type": "code",
   "execution_count": null,
   "id": "3258a55b",
   "metadata": {},
   "outputs": [],
   "source": []
  },
  {
   "cell_type": "code",
   "execution_count": null,
   "id": "5bdb49cb",
   "metadata": {},
   "outputs": [],
   "source": []
  }
 ],
 "metadata": {
  "kernelspec": {
   "display_name": "Python 3 (ipykernel)",
   "language": "python",
   "name": "python3"
  },
  "language_info": {
   "codemirror_mode": {
    "name": "ipython",
    "version": 3
   },
   "file_extension": ".py",
   "mimetype": "text/x-python",
   "name": "python",
   "nbconvert_exporter": "python",
   "pygments_lexer": "ipython3",
   "version": "3.9.12"
  }
 },
 "nbformat": 4,
 "nbformat_minor": 5
}
